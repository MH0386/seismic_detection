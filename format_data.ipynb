{
 "cells": [
  {
   "cell_type": "code",
   "execution_count": 1,
   "metadata": {},
   "outputs": [],
   "source": [
    "import polars as pl\n",
    "import matplotlib.pyplot as plt\n",
    "import os\n",
    "import re"
   ]
  },
  {
   "cell_type": "code",
   "execution_count": 2,
   "metadata": {},
   "outputs": [
    {
     "name": "stdout",
     "output_type": "stream",
     "text": [
      "/teamspace/studios/this_studio\n"
     ]
    }
   ],
   "source": [
    "!pwd"
   ]
  },
  {
   "cell_type": "code",
   "execution_count": 3,
   "metadata": {},
   "outputs": [
    {
     "data": {
      "text/html": [
       "<div><style>\n",
       ".dataframe > thead > tr,\n",
       ".dataframe > tbody > tr {\n",
       "  text-align: right;\n",
       "  white-space: pre-wrap;\n",
       "}\n",
       "</style>\n",
       "<small>shape: (76, 5)</small><table border=\"1\" class=\"dataframe\"><thead><tr><th>filename</th><th>time_abs(%Y-%m-%dT%H:%M:%S.%f)</th><th>time_rel(sec)</th><th>evid</th><th>mq_type</th></tr><tr><td>str</td><td>str</td><td>f64</td><td>str</td><td>str</td></tr></thead><tbody><tr><td>&quot;xa.s12.00.mhz.1970-01-19HR00_e…</td><td>&quot;1970-01-19T20:25:00.000000&quot;</td><td>73500.0</td><td>&quot;evid00002&quot;</td><td>&quot;impact_mq&quot;</td></tr><tr><td>&quot;xa.s12.00.mhz.1970-03-25HR00_e…</td><td>&quot;1970-03-25T03:32:00.000000&quot;</td><td>12720.0</td><td>&quot;evid00003&quot;</td><td>&quot;impact_mq&quot;</td></tr><tr><td>&quot;xa.s12.00.mhz.1970-03-26HR00_e…</td><td>&quot;1970-03-26T20:17:00.000000&quot;</td><td>73020.0</td><td>&quot;evid00004&quot;</td><td>&quot;impact_mq&quot;</td></tr><tr><td>&quot;xa.s12.00.mhz.1970-04-25HR00_e…</td><td>&quot;1970-04-25T01:14:00.000000&quot;</td><td>4440.0</td><td>&quot;evid00006&quot;</td><td>&quot;impact_mq&quot;</td></tr><tr><td>&quot;xa.s12.00.mhz.1970-04-26HR00_e…</td><td>&quot;1970-04-26T14:29:00.000000&quot;</td><td>52140.0</td><td>&quot;evid00007&quot;</td><td>&quot;deep_mq&quot;</td></tr><tr><td>&hellip;</td><td>&hellip;</td><td>&hellip;</td><td>&hellip;</td><td>&hellip;</td></tr><tr><td>&quot;xa.s12.00.mhz.1974-10-14HR00_e…</td><td>&quot;1974-10-14T17:43:00.000000&quot;</td><td>63780.0</td><td>&quot;evid00156&quot;</td><td>&quot;impact_mq&quot;</td></tr><tr><td>&quot;xa.s12.00.mhz.1975-04-12HR00_e…</td><td>&quot;1975-04-12T18:15:00.000000&quot;</td><td>65700.0</td><td>&quot;evid00191&quot;</td><td>&quot;impact_mq&quot;</td></tr><tr><td>&quot;xa.s12.00.mhz.1975-05-04HR00_e…</td><td>&quot;1975-05-04T10:05:00.000000&quot;</td><td>36300.0</td><td>&quot;evid00192&quot;</td><td>&quot;impact_mq&quot;</td></tr><tr><td>&quot;xa.s12.00.mhz.1975-06-24HR00_e…</td><td>&quot;1975-06-24T16:03:00.000000&quot;</td><td>57780.0</td><td>&quot;evid00196&quot;</td><td>&quot;impact_mq&quot;</td></tr><tr><td>&quot;xa.s12.00.mhz.1975-06-26HR00_e…</td><td>&quot;1975-06-26T03:24:00.000000&quot;</td><td>12240.0</td><td>&quot;evid00198&quot;</td><td>&quot;impact_mq&quot;</td></tr></tbody></table></div>"
      ],
      "text/plain": [
       "shape: (76, 5)\n",
       "┌─────────────────────────────┬────────────────────────────┬───────────────┬───────────┬───────────┐\n",
       "│ filename                    ┆ time_abs(%Y-%m-%dT%H:%M:%S ┆ time_rel(sec) ┆ evid      ┆ mq_type   │\n",
       "│ ---                         ┆ .%f)                       ┆ ---           ┆ ---       ┆ ---       │\n",
       "│ str                         ┆ ---                        ┆ f64           ┆ str       ┆ str       │\n",
       "│                             ┆ str                        ┆               ┆           ┆           │\n",
       "╞═════════════════════════════╪════════════════════════════╪═══════════════╪═══════════╪═══════════╡\n",
       "│ xa.s12.00.mhz.1970-01-19HR0 ┆ 1970-01-19T20:25:00.000000 ┆ 73500.0       ┆ evid00002 ┆ impact_mq │\n",
       "│ 0_e…                        ┆                            ┆               ┆           ┆           │\n",
       "│ xa.s12.00.mhz.1970-03-25HR0 ┆ 1970-03-25T03:32:00.000000 ┆ 12720.0       ┆ evid00003 ┆ impact_mq │\n",
       "│ 0_e…                        ┆                            ┆               ┆           ┆           │\n",
       "│ xa.s12.00.mhz.1970-03-26HR0 ┆ 1970-03-26T20:17:00.000000 ┆ 73020.0       ┆ evid00004 ┆ impact_mq │\n",
       "│ 0_e…                        ┆                            ┆               ┆           ┆           │\n",
       "│ xa.s12.00.mhz.1970-04-25HR0 ┆ 1970-04-25T01:14:00.000000 ┆ 4440.0        ┆ evid00006 ┆ impact_mq │\n",
       "│ 0_e…                        ┆                            ┆               ┆           ┆           │\n",
       "│ xa.s12.00.mhz.1970-04-26HR0 ┆ 1970-04-26T14:29:00.000000 ┆ 52140.0       ┆ evid00007 ┆ deep_mq   │\n",
       "│ 0_e…                        ┆                            ┆               ┆           ┆           │\n",
       "│ …                           ┆ …                          ┆ …             ┆ …         ┆ …         │\n",
       "│ xa.s12.00.mhz.1974-10-14HR0 ┆ 1974-10-14T17:43:00.000000 ┆ 63780.0       ┆ evid00156 ┆ impact_mq │\n",
       "│ 0_e…                        ┆                            ┆               ┆           ┆           │\n",
       "│ xa.s12.00.mhz.1975-04-12HR0 ┆ 1975-04-12T18:15:00.000000 ┆ 65700.0       ┆ evid00191 ┆ impact_mq │\n",
       "│ 0_e…                        ┆                            ┆               ┆           ┆           │\n",
       "│ xa.s12.00.mhz.1975-05-04HR0 ┆ 1975-05-04T10:05:00.000000 ┆ 36300.0       ┆ evid00192 ┆ impact_mq │\n",
       "│ 0_e…                        ┆                            ┆               ┆           ┆           │\n",
       "│ xa.s12.00.mhz.1975-06-24HR0 ┆ 1975-06-24T16:03:00.000000 ┆ 57780.0       ┆ evid00196 ┆ impact_mq │\n",
       "│ 0_e…                        ┆                            ┆               ┆           ┆           │\n",
       "│ xa.s12.00.mhz.1975-06-26HR0 ┆ 1975-06-26T03:24:00.000000 ┆ 12240.0       ┆ evid00198 ┆ impact_mq │\n",
       "│ 0_e…                        ┆                            ┆               ┆           ┆           │\n",
       "└─────────────────────────────┴────────────────────────────┴───────────────┴───────────┴───────────┘"
      ]
     },
     "execution_count": 3,
     "metadata": {},
     "output_type": "execute_result"
    }
   ],
   "source": [
    "catalog: pl.DataFrame = pl.read_csv(\n",
    "    \"nasa_space_apps_2024_seismic_detection_data/data/lunar/training/catalogs/apollo12_catalog_GradeA_final.csv\"\n",
    ")\n",
    "catalog"
   ]
  },
  {
   "cell_type": "code",
   "execution_count": 4,
   "metadata": {},
   "outputs": [
    {
     "data": {
      "text/plain": [
       "73500.0"
      ]
     },
     "execution_count": 4,
     "metadata": {},
     "output_type": "execute_result"
    }
   ],
   "source": [
    "catalog[\"time_rel(sec)\"][0]"
   ]
  },
  {
   "cell_type": "markdown",
   "metadata": {},
   "source": [
    "# Lunar\n"
   ]
  },
  {
   "cell_type": "markdown",
   "metadata": {},
   "source": [
    "## Training\n"
   ]
  },
  {
   "cell_type": "code",
   "execution_count": 5,
   "metadata": {},
   "outputs": [],
   "source": [
    "training_dir = (\n",
    "    \"nasa_space_apps_2024_seismic_detection_data/data/lunar/training/data/S12_GradeA\"\n",
    ")"
   ]
  },
  {
   "cell_type": "code",
   "execution_count": 45,
   "metadata": {},
   "outputs": [
    {
     "name": "stdout",
     "output_type": "stream",
     "text": [
      "xa.s12.00.mhz.1971-04-13HR00_evid00029 failed No such file or directory (os error 2): ...tion_data/data/lunar/training/data/S12_GradeA/xa.s12.00.mhz.1971-04-13HR00_evid00029.csv\n"
     ]
    }
   ],
   "source": [
    "for i in range(len(catalog)):\n",
    "    try:\n",
    "        eventID = re.search(\"evid(\\d+)\", catalog[\"filename\"][i]).group(1)\n",
    "        data = pl.read_csv(f\"{training_dir}/{catalog['filename'][i]}.csv\")\n",
    "        velocity_data = data[\"velocity(m/s)\"]\n",
    "        time_rel = data[\"time_rel(sec)\"]\n",
    "        mq_time_rel = catalog[\"time_rel(sec)\"][i]\n",
    "        MQ_TIME = data.with_columns(\n",
    "            pl.when(pl.col(\"time_rel(sec)\") >= mq_time_rel).then(1).otherwise(0)\n",
    "        )[\"literal\"]\n",
    "\n",
    "        dictionary = {\n",
    "            \"mq\": MQ_TIME.to_list(),\n",
    "            \"time_rel\": time_rel.to_list(),\n",
    "            \"velocity\": velocity_data.to_list(),\n",
    "        }\n",
    "        df = pl.DataFrame(dictionary)\n",
    "        df.write_csv(f\"seismic_data/data/train/moon/lunar_train_12_a_{eventID}.csv\")\n",
    "    except Exception as e:\n",
    "        print(catalog[\"filename\"][i] + \" failed \" + str(object=e))"
   ]
  },
  {
   "cell_type": "markdown",
   "metadata": {},
   "source": [
    "## Testing\n"
   ]
  },
  {
   "cell_type": "code",
   "execution_count": 19,
   "metadata": {},
   "outputs": [],
   "source": [
    "testing_dir = \"nasa_space_apps_2024_seismic_detection_data/data/lunar/test/data/\"\n",
    "testing_dirs = [testing_dir + d for d in os.listdir(testing_dir)]"
   ]
  },
  {
   "cell_type": "code",
   "execution_count": 20,
   "metadata": {},
   "outputs": [
    {
     "data": {
      "text/plain": [
       "['nasa_space_apps_2024_seismic_detection_data/data/lunar/test/data/S12_GradeB',\n",
       " 'nasa_space_apps_2024_seismic_detection_data/data/lunar/test/data/S15_GradeA',\n",
       " 'nasa_space_apps_2024_seismic_detection_data/data/lunar/test/data/S15_GradeB',\n",
       " 'nasa_space_apps_2024_seismic_detection_data/data/lunar/test/data/S16_GradeA',\n",
       " 'nasa_space_apps_2024_seismic_detection_data/data/lunar/test/data/S16_GradeB']"
      ]
     },
     "execution_count": 20,
     "metadata": {},
     "output_type": "execute_result"
    }
   ],
   "source": [
    "testing_dirs"
   ]
  },
  {
   "cell_type": "code",
   "execution_count": 21,
   "metadata": {},
   "outputs": [],
   "source": [
    "for j in range(len(testing_dirs)):\n",
    "    for i in range(len(os.listdir(testing_dirs[j]))):\n",
    "        try:\n",
    "            filename = f\"{testing_dirs[j]}/{os.listdir(testing_dirs[j])[i]}\"\n",
    "            s = re.search(\"s(\\d+)\", filename).group(1)\n",
    "            grade = re.search(\"Grade([A-Z])\", filename).group(1).lower()\n",
    "            eventID = re.search(\"evid(\\d+)\", filename).group(1)\n",
    "            if filename.endswith(\".csv\") is not True:\n",
    "                continue\n",
    "            # print(filename)\n",
    "            # print(f\"{s} {grade}\")\n",
    "            # print(eventID)\n",
    "            velocity_data = pd.read_csv(filepath_or_buffer=filename)[\n",
    "                \"velocity(m/s)\"\n",
    "            ].to_list()\n",
    "            time_rel = pd.read_csv(filepath_or_buffer=filename)[\n",
    "                \"time_rel(sec)\"\n",
    "            ].to_list()\n",
    "            dictionary = {\n",
    "                \"time_rel\": time_rel,\n",
    "                \"velocity\": velocity_data,\n",
    "            }\n",
    "            df = pd.DataFrame(dictionary)\n",
    "            df.to_csv(\n",
    "                path_or_buf=f\"data/lunar_test_{s}_{grade}_{eventID}.csv\", index=False\n",
    "            )\n",
    "        except Exception as e:\n",
    "            print(filename + \" failed \" + str(object=e))"
   ]
  },
  {
   "cell_type": "markdown",
   "metadata": {},
   "source": [
    "# mars\n"
   ]
  },
  {
   "cell_type": "markdown",
   "metadata": {},
   "source": [
    "## Training\n"
   ]
  },
  {
   "cell_type": "code",
   "execution_count": 22,
   "metadata": {},
   "outputs": [
    {
     "data": {
      "text/html": [
       "<div>\n",
       "<style scoped>\n",
       "    .dataframe tbody tr th:only-of-type {\n",
       "        vertical-align: middle;\n",
       "    }\n",
       "\n",
       "    .dataframe tbody tr th {\n",
       "        vertical-align: top;\n",
       "    }\n",
       "\n",
       "    .dataframe thead th {\n",
       "        text-align: right;\n",
       "    }\n",
       "</style>\n",
       "<table border=\"1\" class=\"dataframe\">\n",
       "  <thead>\n",
       "    <tr style=\"text-align: right;\">\n",
       "      <th></th>\n",
       "      <th>filename</th>\n",
       "      <th>time_abs(%Y-%m-%dT%H:%M:%S.%f)</th>\n",
       "      <th>time_rel(sec)</th>\n",
       "      <th>evid</th>\n",
       "    </tr>\n",
       "  </thead>\n",
       "  <tbody>\n",
       "    <tr>\n",
       "      <th>0</th>\n",
       "      <td>XB.ELYSE.02.BHV.2022-02-03HR08_evid0005.csv</td>\n",
       "      <td>2022-02-03T08:08:27.000000</td>\n",
       "      <td>507.0</td>\n",
       "      <td>evid0005</td>\n",
       "    </tr>\n",
       "    <tr>\n",
       "      <th>1</th>\n",
       "      <td>XB.ELYSE.02.BHV.2022-01-02HR04_evid0006.csv</td>\n",
       "      <td>2022-01-02T04:35:30.000000</td>\n",
       "      <td>2130.0</td>\n",
       "      <td>evid0006</td>\n",
       "    </tr>\n",
       "  </tbody>\n",
       "</table>\n",
       "</div>"
      ],
      "text/plain": [
       "                                      filename time_abs(%Y-%m-%dT%H:%M:%S.%f)  \\\n",
       "0  XB.ELYSE.02.BHV.2022-02-03HR08_evid0005.csv     2022-02-03T08:08:27.000000   \n",
       "1  XB.ELYSE.02.BHV.2022-01-02HR04_evid0006.csv     2022-01-02T04:35:30.000000   \n",
       "\n",
       "   time_rel(sec)      evid  \n",
       "0          507.0  evid0005  \n",
       "1         2130.0  evid0006  "
      ]
     },
     "execution_count": 22,
     "metadata": {},
     "output_type": "execute_result"
    }
   ],
   "source": [
    "training_dir = \"nasa_space_apps_2024_seismic_detection_data/data/mars/training/data\"\n",
    "catalog = pd.read_csv(\n",
    "    \"nasa_space_apps_2024_seismic_detection_data/data/mars/training/catalogs/Mars_InSight_training_catalog_final.csv\"\n",
    ")\n",
    "catalog"
   ]
  },
  {
   "cell_type": "code",
   "execution_count": 23,
   "metadata": {},
   "outputs": [],
   "source": [
    "for i in range(len(catalog)):\n",
    "    try:\n",
    "        eventID = re.search(\"evid(\\d+)\", catalog[\"filename\"][i]).group(1)\n",
    "        velocity_data = pd.read_csv(\n",
    "            filepath_or_buffer=f\"{training_dir}/{catalog['filename'][i]}\"\n",
    "        )[\"velocity(c/s)\"].to_list()\n",
    "        dictionary = {\n",
    "            \"time_rel\": catalog[\"time_rel(sec)\"][i],\n",
    "            \"velocity\": velocity_data,\n",
    "        }\n",
    "        df = pd.DataFrame(dictionary)\n",
    "        df.to_csv(path_or_buf=f\"data/mars_train_{eventID}.csv\", index=False)\n",
    "    except Exception as e:\n",
    "        print(catalog[\"filename\"][i] + \" failed \" + str(object=e))"
   ]
  },
  {
   "cell_type": "markdown",
   "metadata": {},
   "source": [
    "## Testing\n"
   ]
  },
  {
   "cell_type": "code",
   "execution_count": 24,
   "metadata": {},
   "outputs": [],
   "source": [
    "testing_dirs = [\"nasa_space_apps_2024_seismic_detection_data/data/mars/test/data\"]"
   ]
  },
  {
   "cell_type": "code",
   "execution_count": 25,
   "metadata": {},
   "outputs": [
    {
     "data": {
      "text/plain": [
       "['nasa_space_apps_2024_seismic_detection_data/data/mars/test/data']"
      ]
     },
     "execution_count": 25,
     "metadata": {},
     "output_type": "execute_result"
    }
   ],
   "source": [
    "testing_dirs"
   ]
  },
  {
   "cell_type": "code",
   "execution_count": 26,
   "metadata": {},
   "outputs": [],
   "source": [
    "for j in range(len(testing_dirs)):\n",
    "    for i in range(len(os.listdir(testing_dirs[j]))):\n",
    "        try:\n",
    "            filename = f\"{testing_dirs[j]}/{os.listdir(testing_dirs[j])[i]}\"\n",
    "            eventID = re.search(\"evid(\\d+)\", filename).group(1)\n",
    "            if filename.endswith(\".csv\") is not True:\n",
    "                continue\n",
    "            # print(filename)\n",
    "            # print(eventID)\n",
    "            velocity_data = pd.read_csv(filepath_or_buffer=filename)[\n",
    "                \"velocity(c/s)\"\n",
    "            ].to_list()\n",
    "            time_rel = pd.read_csv(filepath_or_buffer=filename)[\n",
    "                \"rel_time(sec)\"\n",
    "            ].to_list()\n",
    "            dictionary = {\n",
    "                \"time_rel\": time_rel,\n",
    "                \"velocity\": velocity_data,\n",
    "            }\n",
    "            df = pd.DataFrame(dictionary)\n",
    "            df.to_csv(path_or_buf=f\"data/mars_test_{eventID}.csv\", index=False)\n",
    "        except Exception as e:\n",
    "            print(filename + \" failed \" + str(object=e))"
   ]
  }
 ],
 "metadata": {
  "kernelspec": {
   "display_name": "Python 3",
   "language": "python",
   "name": "python3"
  },
  "language_info": {
   "codemirror_mode": {
    "name": "ipython",
    "version": 3
   },
   "file_extension": ".py",
   "mimetype": "text/x-python",
   "name": "python",
   "nbconvert_exporter": "python",
   "pygments_lexer": "ipython3",
   "version": "3.10.10"
  }
 },
 "nbformat": 4,
 "nbformat_minor": 4
}
