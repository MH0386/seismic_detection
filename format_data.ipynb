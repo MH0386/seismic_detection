{
 "cells": [
  {
   "cell_type": "code",
   "execution_count": 1,
   "metadata": {},
   "outputs": [],
   "source": [
    "import pandas as pd\n",
    "import numpy as np"
   ]
  },
  {
   "cell_type": "code",
   "execution_count": 2,
   "metadata": {},
   "outputs": [],
   "source": [
    "catalog: pd.DataFrame = pd.read_csv(\n",
    "    filepath_or_buffer=\"nasa_space_apps_2024_seismic_detection_data/data/lunar/training/catalogs/apollo12_catalog_GradeA_final.csv\"\n",
    ")"
   ]
  },
  {
   "cell_type": "code",
   "execution_count": 3,
   "metadata": {},
   "outputs": [],
   "source": [
    "json_file: pd.DataFrame = pd.DataFrame(columns=[\"filename\", \"velocity\", \"time_rel\"])"
   ]
  },
  {
   "cell_type": "code",
   "execution_count": 4,
   "metadata": {},
   "outputs": [
    {
     "data": {
      "text/html": [
       "<div>\n",
       "<style scoped>\n",
       "    .dataframe tbody tr th:only-of-type {\n",
       "        vertical-align: middle;\n",
       "    }\n",
       "\n",
       "    .dataframe tbody tr th {\n",
       "        vertical-align: top;\n",
       "    }\n",
       "\n",
       "    .dataframe thead th {\n",
       "        text-align: right;\n",
       "    }\n",
       "</style>\n",
       "<table border=\"1\" class=\"dataframe\">\n",
       "  <thead>\n",
       "    <tr style=\"text-align: right;\">\n",
       "      <th></th>\n",
       "      <th>filename</th>\n",
       "      <th>velocity</th>\n",
       "      <th>time_rel</th>\n",
       "    </tr>\n",
       "  </thead>\n",
       "  <tbody>\n",
       "  </tbody>\n",
       "</table>\n",
       "</div>"
      ],
      "text/plain": [
       "Empty DataFrame\n",
       "Columns: [filename, velocity, time_rel]\n",
       "Index: []"
      ]
     },
     "execution_count": 4,
     "metadata": {},
     "output_type": "execute_result"
    }
   ],
   "source": [
    "json_file"
   ]
  },
  {
   "cell_type": "code",
   "execution_count": 5,
   "metadata": {},
   "outputs": [
    {
     "data": {
      "text/plain": [
       "73500.0"
      ]
     },
     "execution_count": 5,
     "metadata": {},
     "output_type": "execute_result"
    }
   ],
   "source": [
    "catalog[\"time_rel(sec)\"][0]"
   ]
  },
  {
   "cell_type": "code",
   "execution_count": 6,
   "metadata": {},
   "outputs": [],
   "source": [
    "for i in range(len(catalog)):\n",
    "    json_file.at[i, \"time_rel\"] = catalog[\"time_rel(sec)\"][i]\n",
    "    json_file.at[i, \"filename\"] = catalog[\"filename\"][i]"
   ]
  },
  {
   "cell_type": "code",
   "execution_count": 7,
   "metadata": {},
   "outputs": [],
   "source": [
    "json_file.to_json(path_or_buf=\"train.json\", orient=\"records\", indent=4)"
   ]
  },
  {
   "cell_type": "code",
   "execution_count": 8,
   "metadata": {},
   "outputs": [],
   "source": [
    "training_dir = \"nasa_space_apps_2024_seismic_detection_data/data/lunar/training/data/S12_GradeA\""
   ]
  },
  {
   "cell_type": "code",
   "execution_count": 9,
   "metadata": {},
   "outputs": [
    {
     "data": {
      "text/plain": [
       "76"
      ]
     },
     "execution_count": 9,
     "metadata": {},
     "output_type": "execute_result"
    }
   ],
   "source": [
    "len(json_file)"
   ]
  },
  {
   "cell_type": "code",
   "execution_count": 10,
   "metadata": {},
   "outputs": [
    {
     "data": {
      "text/plain": [
       "array(['xa.s12.00.mhz.1970-01-19HR00_evid00002',\n",
       "       'xa.s12.00.mhz.1970-03-25HR00_evid00003',\n",
       "       'xa.s12.00.mhz.1970-03-26HR00_evid00004',\n",
       "       'xa.s12.00.mhz.1970-04-25HR00_evid00006',\n",
       "       'xa.s12.00.mhz.1970-04-26HR00_evid00007',\n",
       "       'xa.s12.00.mhz.1970-06-15HR00_evid00008',\n",
       "       'xa.s12.00.mhz.1970-06-26HR00_evid00009',\n",
       "       'xa.s12.00.mhz.1970-07-20HR00_evid00010',\n",
       "       'xa.s12.00.mhz.1970-07-20HR00_evid00011',\n",
       "       'xa.s12.00.mhz.1970-09-26HR00_evid00013',\n",
       "       'xa.s12.00.mhz.1970-10-24HR00_evid00014',\n",
       "       'xa.s12.00.mhz.1970-11-12HR00_evid00015',\n",
       "       'xa.s12.00.mhz.1970-12-11HR00_evid00017',\n",
       "       'xa.s12.00.mhz.1970-12-27HR00_evid00019',\n",
       "       'xa.s12.00.mhz.1970-12-31HR00_evid00021',\n",
       "       'xa.s12.00.mhz.1971-01-15HR00_evid00022',\n",
       "       'xa.s12.00.mhz.1971-01-28HR00_evid00023',\n",
       "       'xa.s12.00.mhz.1971-01-29HR00_evid00024',\n",
       "       'xa.s12.00.mhz.1971-02-09HR00_evid00026',\n",
       "       'xa.s12.00.mhz.1971-03-25HR00_evid00028',\n",
       "       'xa.s12.00.mhz.1971-04-13HR00_evid00029',\n",
       "       'xa.s12.00.mhz.1971-04-17HR00_evid00030',\n",
       "       'xa.s12.00.mhz.1971-05-12HR00_evid00031',\n",
       "       'xa.s12.00.mhz.1971-05-12HR00_evid00032',\n",
       "       'xa.s12.00.mhz.1971-05-13HR00_evid00033',\n",
       "       'xa.s12.00.mhz.1971-05-23HR00_evid00034',\n",
       "       'xa.s12.00.mhz.1971-06-12HR00_evid00035',\n",
       "       'xa.s12.00.mhz.1971-09-25HR00_evid00042',\n",
       "       'xa.s12.00.mhz.1971-10-18HR00_evid00043',\n",
       "       'xa.s12.00.mhz.1971-10-20HR00_evid00044',\n",
       "       'xa.s12.00.mhz.1971-10-31HR00_evid00045',\n",
       "       'xa.s12.00.mhz.1971-11-14HR00_evid00046',\n",
       "       'xa.s12.00.mhz.1972-01-04HR00_evid00049',\n",
       "       'xa.s12.00.mhz.1972-03-12HR00_evid00052',\n",
       "       'xa.s12.00.mhz.1972-05-11HR00_evid00055',\n",
       "       'xa.s12.00.mhz.1972-06-16HR00_evid00060',\n",
       "       'xa.s12.00.mhz.1972-07-17HR00_evid00067',\n",
       "       'xa.s12.00.mhz.1972-07-17HR00_evid00068',\n",
       "       'xa.s12.00.mhz.1972-07-28HR00_evid00070',\n",
       "       'xa.s12.00.mhz.1972-07-31HR00_evid00071',\n",
       "       'xa.s12.00.mhz.1972-12-02HR00_evid00083',\n",
       "       'xa.s12.00.mhz.1972-12-03HR00_evid00084',\n",
       "       'xa.s12.00.mhz.1973-01-18HR00_evid00088',\n",
       "       'xa.s12.00.mhz.1973-01-31HR00_evid00091',\n",
       "       'xa.s12.00.mhz.1973-03-01HR00_evid00093',\n",
       "       'xa.s12.00.mhz.1973-03-13HR00_evid00094',\n",
       "       'xa.s12.00.mhz.1973-03-24HR00_evid00097',\n",
       "       'xa.s12.00.mhz.1973-05-14HR00_evid00104',\n",
       "       'xa.s12.00.mhz.1973-06-05HR00_evid00107',\n",
       "       'xa.s12.00.mhz.1973-06-05HR00_evid00108',\n",
       "       'xa.s12.00.mhz.1973-06-18HR00_evid00109',\n",
       "       'xa.s12.00.mhz.1973-06-27HR00_evid00112',\n",
       "       'xa.s12.00.mhz.1973-07-03HR00_evid00113',\n",
       "       'xa.s12.00.mhz.1973-07-04HR00_evid00114',\n",
       "       'xa.s12.00.mhz.1973-07-20HR00_evid00117',\n",
       "       'xa.s12.00.mhz.1973-07-28HR00_evid00120',\n",
       "       'xa.s12.00.mhz.1973-07-29HR00_evid00121',\n",
       "       'xa.s12.00.mhz.1973-08-21HR00_evid00127',\n",
       "       'xa.s12.00.mhz.1974-01-10HR00_evid00136',\n",
       "       'xa.s12.00.mhz.1974-02-07HR00_evid00137',\n",
       "       'xa.s12.00.mhz.1974-02-12HR00_evid00138',\n",
       "       'xa.s12.00.mhz.1974-03-25HR00_evid00140',\n",
       "       'xa.s12.00.mhz.1974-04-08HR00_evid00141',\n",
       "       'xa.s12.00.mhz.1974-04-19HR00_evid00142',\n",
       "       'xa.s12.00.mhz.1974-04-26HR00_evid00144',\n",
       "       'xa.s12.00.mhz.1974-04-27HR00_evid00145',\n",
       "       'xa.s12.00.mhz.1974-06-25HR00_evid00149',\n",
       "       'xa.s12.00.mhz.1974-07-06HR00_evid00150',\n",
       "       'xa.s12.00.mhz.1974-07-06HR00_evid00151',\n",
       "       'xa.s12.00.mhz.1974-07-11HR00_evid00152',\n",
       "       'xa.s12.00.mhz.1974-07-17HR00_evid00153',\n",
       "       'xa.s12.00.mhz.1974-10-14HR00_evid00156',\n",
       "       'xa.s12.00.mhz.1975-04-12HR00_evid00191',\n",
       "       'xa.s12.00.mhz.1975-05-04HR00_evid00192',\n",
       "       'xa.s12.00.mhz.1975-06-24HR00_evid00196',\n",
       "       'xa.s12.00.mhz.1975-06-26HR00_evid00198'], dtype=object)"
      ]
     },
     "execution_count": 10,
     "metadata": {},
     "output_type": "execute_result"
    }
   ],
   "source": [
    "json_file[\"filename\"].to_numpy()"
   ]
  },
  {
   "cell_type": "code",
   "execution_count": 12,
   "metadata": {},
   "outputs": [
    {
     "name": "stdout",
     "output_type": "stream",
     "text": [
      "xa.s12.00.mhz.1971-04-13HR00_evid00029\n"
     ]
    }
   ],
   "source": [
    "for i in range(len(json_file)):\n",
    "    try:\n",
    "        FILE: pd.DataFrame = pd.read_csv(\n",
    "            filepath_or_buffer=training_dir + \"/\" + json_file[\"filename\"][i] + \".csv\"\n",
    "        )\n",
    "        json_file.loc[i, \"velocity\"] = FILE[\"velocity(m/s)\"].to_numpy()\n",
    "    except Exception:\n",
    "        print(json_file[\"filename\"][i])"
   ]
  },
  {
   "cell_type": "code",
   "execution_count": null,
   "metadata": {},
   "outputs": [],
   "source": [
    "json_file.to_json(path_or_buf=\"train.json\", orient=\"records\", indent=4)"
   ]
  }
 ],
 "metadata": {
  "kernelspec": {
   "display_name": "base",
   "language": "python",
   "name": "python3"
  },
  "language_info": {
   "codemirror_mode": {
    "name": "ipython",
    "version": 3
   },
   "file_extension": ".py",
   "mimetype": "text/x-python",
   "name": "python",
   "nbconvert_exporter": "python",
   "pygments_lexer": "ipython3",
   "version": "3.10.14"
  }
 },
 "nbformat": 4,
 "nbformat_minor": 2
}
