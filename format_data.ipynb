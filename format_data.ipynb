{
 "cells": [
  {
   "cell_type": "code",
   "execution_count": 2,
   "metadata": {},
   "outputs": [],
   "source": [
    "import pandas as pd\n",
    "import json\n",
    "import os\n",
    "import re"
   ]
  },
  {
   "cell_type": "code",
   "execution_count": 12,
   "metadata": {},
   "outputs": [
    {
     "name": "stdout",
     "output_type": "stream",
     "text": [
      "/teamspace/studios/this_studio\n"
     ]
    }
   ],
   "source": [
    "!pwd"
   ]
  },
  {
   "cell_type": "code",
   "execution_count": 13,
   "metadata": {},
   "outputs": [
    {
     "data": {
      "text/html": [
       "<div>\n",
       "<style scoped>\n",
       "    .dataframe tbody tr th:only-of-type {\n",
       "        vertical-align: middle;\n",
       "    }\n",
       "\n",
       "    .dataframe tbody tr th {\n",
       "        vertical-align: top;\n",
       "    }\n",
       "\n",
       "    .dataframe thead th {\n",
       "        text-align: right;\n",
       "    }\n",
       "</style>\n",
       "<table border=\"1\" class=\"dataframe\">\n",
       "  <thead>\n",
       "    <tr style=\"text-align: right;\">\n",
       "      <th></th>\n",
       "      <th>filename</th>\n",
       "      <th>time_abs(%Y-%m-%dT%H:%M:%S.%f)</th>\n",
       "      <th>time_rel(sec)</th>\n",
       "      <th>evid</th>\n",
       "      <th>mq_type</th>\n",
       "    </tr>\n",
       "  </thead>\n",
       "  <tbody>\n",
       "    <tr>\n",
       "      <th>0</th>\n",
       "      <td>xa.s12.00.mhz.1970-01-19HR00_evid00002</td>\n",
       "      <td>1970-01-19T20:25:00.000000</td>\n",
       "      <td>73500.0</td>\n",
       "      <td>evid00002</td>\n",
       "      <td>impact_mq</td>\n",
       "    </tr>\n",
       "    <tr>\n",
       "      <th>1</th>\n",
       "      <td>xa.s12.00.mhz.1970-03-25HR00_evid00003</td>\n",
       "      <td>1970-03-25T03:32:00.000000</td>\n",
       "      <td>12720.0</td>\n",
       "      <td>evid00003</td>\n",
       "      <td>impact_mq</td>\n",
       "    </tr>\n",
       "    <tr>\n",
       "      <th>2</th>\n",
       "      <td>xa.s12.00.mhz.1970-03-26HR00_evid00004</td>\n",
       "      <td>1970-03-26T20:17:00.000000</td>\n",
       "      <td>73020.0</td>\n",
       "      <td>evid00004</td>\n",
       "      <td>impact_mq</td>\n",
       "    </tr>\n",
       "    <tr>\n",
       "      <th>3</th>\n",
       "      <td>xa.s12.00.mhz.1970-04-25HR00_evid00006</td>\n",
       "      <td>1970-04-25T01:14:00.000000</td>\n",
       "      <td>4440.0</td>\n",
       "      <td>evid00006</td>\n",
       "      <td>impact_mq</td>\n",
       "    </tr>\n",
       "    <tr>\n",
       "      <th>4</th>\n",
       "      <td>xa.s12.00.mhz.1970-04-26HR00_evid00007</td>\n",
       "      <td>1970-04-26T14:29:00.000000</td>\n",
       "      <td>52140.0</td>\n",
       "      <td>evid00007</td>\n",
       "      <td>deep_mq</td>\n",
       "    </tr>\n",
       "    <tr>\n",
       "      <th>...</th>\n",
       "      <td>...</td>\n",
       "      <td>...</td>\n",
       "      <td>...</td>\n",
       "      <td>...</td>\n",
       "      <td>...</td>\n",
       "    </tr>\n",
       "    <tr>\n",
       "      <th>71</th>\n",
       "      <td>xa.s12.00.mhz.1974-10-14HR00_evid00156</td>\n",
       "      <td>1974-10-14T17:43:00.000000</td>\n",
       "      <td>63780.0</td>\n",
       "      <td>evid00156</td>\n",
       "      <td>impact_mq</td>\n",
       "    </tr>\n",
       "    <tr>\n",
       "      <th>72</th>\n",
       "      <td>xa.s12.00.mhz.1975-04-12HR00_evid00191</td>\n",
       "      <td>1975-04-12T18:15:00.000000</td>\n",
       "      <td>65700.0</td>\n",
       "      <td>evid00191</td>\n",
       "      <td>impact_mq</td>\n",
       "    </tr>\n",
       "    <tr>\n",
       "      <th>73</th>\n",
       "      <td>xa.s12.00.mhz.1975-05-04HR00_evid00192</td>\n",
       "      <td>1975-05-04T10:05:00.000000</td>\n",
       "      <td>36300.0</td>\n",
       "      <td>evid00192</td>\n",
       "      <td>impact_mq</td>\n",
       "    </tr>\n",
       "    <tr>\n",
       "      <th>74</th>\n",
       "      <td>xa.s12.00.mhz.1975-06-24HR00_evid00196</td>\n",
       "      <td>1975-06-24T16:03:00.000000</td>\n",
       "      <td>57780.0</td>\n",
       "      <td>evid00196</td>\n",
       "      <td>impact_mq</td>\n",
       "    </tr>\n",
       "    <tr>\n",
       "      <th>75</th>\n",
       "      <td>xa.s12.00.mhz.1975-06-26HR00_evid00198</td>\n",
       "      <td>1975-06-26T03:24:00.000000</td>\n",
       "      <td>12240.0</td>\n",
       "      <td>evid00198</td>\n",
       "      <td>impact_mq</td>\n",
       "    </tr>\n",
       "  </tbody>\n",
       "</table>\n",
       "<p>76 rows × 5 columns</p>\n",
       "</div>"
      ],
      "text/plain": [
       "                                  filename time_abs(%Y-%m-%dT%H:%M:%S.%f)  \\\n",
       "0   xa.s12.00.mhz.1970-01-19HR00_evid00002     1970-01-19T20:25:00.000000   \n",
       "1   xa.s12.00.mhz.1970-03-25HR00_evid00003     1970-03-25T03:32:00.000000   \n",
       "2   xa.s12.00.mhz.1970-03-26HR00_evid00004     1970-03-26T20:17:00.000000   \n",
       "3   xa.s12.00.mhz.1970-04-25HR00_evid00006     1970-04-25T01:14:00.000000   \n",
       "4   xa.s12.00.mhz.1970-04-26HR00_evid00007     1970-04-26T14:29:00.000000   \n",
       "..                                     ...                            ...   \n",
       "71  xa.s12.00.mhz.1974-10-14HR00_evid00156     1974-10-14T17:43:00.000000   \n",
       "72  xa.s12.00.mhz.1975-04-12HR00_evid00191     1975-04-12T18:15:00.000000   \n",
       "73  xa.s12.00.mhz.1975-05-04HR00_evid00192     1975-05-04T10:05:00.000000   \n",
       "74  xa.s12.00.mhz.1975-06-24HR00_evid00196     1975-06-24T16:03:00.000000   \n",
       "75  xa.s12.00.mhz.1975-06-26HR00_evid00198     1975-06-26T03:24:00.000000   \n",
       "\n",
       "    time_rel(sec)       evid    mq_type  \n",
       "0         73500.0  evid00002  impact_mq  \n",
       "1         12720.0  evid00003  impact_mq  \n",
       "2         73020.0  evid00004  impact_mq  \n",
       "3          4440.0  evid00006  impact_mq  \n",
       "4         52140.0  evid00007    deep_mq  \n",
       "..            ...        ...        ...  \n",
       "71        63780.0  evid00156  impact_mq  \n",
       "72        65700.0  evid00191  impact_mq  \n",
       "73        36300.0  evid00192  impact_mq  \n",
       "74        57780.0  evid00196  impact_mq  \n",
       "75        12240.0  evid00198  impact_mq  \n",
       "\n",
       "[76 rows x 5 columns]"
      ]
     },
     "execution_count": 13,
     "metadata": {},
     "output_type": "execute_result"
    }
   ],
   "source": [
    "catalog: pd.DataFrame = pd.read_csv(\n",
    "    filepath_or_buffer=\"nasa_space_apps_2024_seismic_detection_data/data/lunar/training/catalogs/apollo12_catalog_GradeA_final.csv\"\n",
    ")\n",
    "catalog"
   ]
  },
  {
   "cell_type": "code",
   "execution_count": 14,
   "metadata": {},
   "outputs": [],
   "source": [
    "json_file: pd.DataFrame = pd.DataFrame(columns=[\"velocity\", \"time_rel\"])"
   ]
  },
  {
   "cell_type": "code",
   "execution_count": 15,
   "metadata": {},
   "outputs": [
    {
     "data": {
      "text/html": [
       "<div>\n",
       "<style scoped>\n",
       "    .dataframe tbody tr th:only-of-type {\n",
       "        vertical-align: middle;\n",
       "    }\n",
       "\n",
       "    .dataframe tbody tr th {\n",
       "        vertical-align: top;\n",
       "    }\n",
       "\n",
       "    .dataframe thead th {\n",
       "        text-align: right;\n",
       "    }\n",
       "</style>\n",
       "<table border=\"1\" class=\"dataframe\">\n",
       "  <thead>\n",
       "    <tr style=\"text-align: right;\">\n",
       "      <th></th>\n",
       "      <th>velocity</th>\n",
       "      <th>time_rel</th>\n",
       "    </tr>\n",
       "  </thead>\n",
       "  <tbody>\n",
       "  </tbody>\n",
       "</table>\n",
       "</div>"
      ],
      "text/plain": [
       "Empty DataFrame\n",
       "Columns: [velocity, time_rel]\n",
       "Index: []"
      ]
     },
     "execution_count": 15,
     "metadata": {},
     "output_type": "execute_result"
    }
   ],
   "source": [
    "json_file"
   ]
  },
  {
   "cell_type": "code",
   "execution_count": 16,
   "metadata": {},
   "outputs": [
    {
     "data": {
      "text/plain": [
       "73500.0"
      ]
     },
     "execution_count": 16,
     "metadata": {},
     "output_type": "execute_result"
    }
   ],
   "source": [
    "catalog[\"time_rel(sec)\"][0]"
   ]
  },
  {
   "cell_type": "markdown",
   "metadata": {},
   "source": [
    "# Lunar"
   ]
  },
  {
   "cell_type": "markdown",
   "metadata": {},
   "source": [
    "## Training"
   ]
  },
  {
   "cell_type": "code",
   "execution_count": 17,
   "metadata": {},
   "outputs": [],
   "source": [
    "training_dir = (\n",
    "    \"nasa_space_apps_2024_seismic_detection_data/data/lunar/training/data/S12_GradeA\"\n",
    ")"
   ]
  },
  {
   "cell_type": "code",
   "execution_count": 18,
   "metadata": {},
   "outputs": [
    {
     "name": "stdout",
     "output_type": "stream",
     "text": [
      "xa.s12.00.mhz.1971-04-13HR00_evid00029 failed [Errno 2] No such file or directory: 'nasa_space_apps_2024_seismic_detection_data/data/lunar/training/data/S12_GradeA/xa.s12.00.mhz.1971-04-13HR00_evid00029.csv'\n"
     ]
    }
   ],
   "source": [
    "for i in range(len(catalog)):\n",
    "    try:\n",
    "        eventID = re.search('evid(\\d+)', catalog['filename'][i]).group(1)\n",
    "        velocity_data = pd.read_csv(\n",
    "            filepath_or_buffer=f\"{training_dir}/{catalog['filename'][i]}.csv\"\n",
    "        )[\"velocity(m/s)\"].to_list()\n",
    "        dictionary = {\n",
    "            \"time_rel\": catalog[\"time_rel(sec)\"][i],\n",
    "            \"velocity\": velocity_data,\n",
    "        }\n",
    "        df = pd.DataFrame(dictionary)\n",
    "        df.to_csv(path_or_buf=f\"data/lunar_train_12_a_{eventID}.csv\", index=False)\n",
    "    except Exception as e:\n",
    "        print(catalog[\"filename\"][i] + \" failed \" + str(object=e))"
   ]
  },
  {
   "cell_type": "markdown",
   "metadata": {},
   "source": [
    "## Testing"
   ]
  },
  {
   "cell_type": "code",
   "execution_count": 19,
   "metadata": {},
   "outputs": [],
   "source": [
    "testing_dir = (\n",
    "    \"nasa_space_apps_2024_seismic_detection_data/data/lunar/test/data/\"\n",
    ")\n",
    "testing_dirs = [testing_dir+d for d in os.listdir(testing_dir)]"
   ]
  },
  {
   "cell_type": "code",
   "execution_count": 20,
   "metadata": {},
   "outputs": [
    {
     "data": {
      "text/plain": [
       "['nasa_space_apps_2024_seismic_detection_data/data/lunar/test/data/S12_GradeB',\n",
       " 'nasa_space_apps_2024_seismic_detection_data/data/lunar/test/data/S15_GradeA',\n",
       " 'nasa_space_apps_2024_seismic_detection_data/data/lunar/test/data/S15_GradeB',\n",
       " 'nasa_space_apps_2024_seismic_detection_data/data/lunar/test/data/S16_GradeA',\n",
       " 'nasa_space_apps_2024_seismic_detection_data/data/lunar/test/data/S16_GradeB']"
      ]
     },
     "execution_count": 20,
     "metadata": {},
     "output_type": "execute_result"
    }
   ],
   "source": [
    "testing_dirs"
   ]
  },
  {
   "cell_type": "code",
   "execution_count": 21,
   "metadata": {},
   "outputs": [],
   "source": [
    "for j in range(len(testing_dirs)):\n",
    "    for i in range(len(os.listdir(testing_dirs[j]))):\n",
    "        try:\n",
    "            filename = f\"{testing_dirs[j]}/{os.listdir(testing_dirs[j])[i]}\"\n",
    "            s = re.search('s(\\d+)', filename).group(1)\n",
    "            grade = re.search('Grade([A-Z])', filename).group(1).lower()\n",
    "            eventID = re.search('evid(\\d+)', filename).group(1)\n",
    "            if filename.endswith('.csv') is not True:\n",
    "                continue\n",
    "            # print(filename)\n",
    "            # print(f\"{s} {grade}\")\n",
    "            # print(eventID)\n",
    "            velocity_data = pd.read_csv(\n",
    "                filepath_or_buffer=filename\n",
    "            )[\"velocity(m/s)\"].to_list()\n",
    "            time_rel = pd.read_csv(\n",
    "                filepath_or_buffer=filename\n",
    "            )[\"time_rel(sec)\"].to_list()\n",
    "            dictionary = {\n",
    "                \"time_rel\": time_rel,\n",
    "                \"velocity\": velocity_data,\n",
    "            }\n",
    "            df = pd.DataFrame(dictionary)\n",
    "            df.to_csv(path_or_buf=f\"data/lunar_test_{s}_{grade}_{eventID}.csv\", index=False)\n",
    "        except Exception as e:\n",
    "            print(filename + \" failed \" + str(object=e))"
   ]
  },
  {
   "cell_type": "markdown",
   "metadata": {},
   "source": [
    "# mars"
   ]
  },
  {
   "cell_type": "markdown",
   "metadata": {},
   "source": [
    "## Training"
   ]
  },
  {
   "cell_type": "code",
   "execution_count": 22,
   "metadata": {},
   "outputs": [
    {
     "data": {
      "text/html": [
       "<div>\n",
       "<style scoped>\n",
       "    .dataframe tbody tr th:only-of-type {\n",
       "        vertical-align: middle;\n",
       "    }\n",
       "\n",
       "    .dataframe tbody tr th {\n",
       "        vertical-align: top;\n",
       "    }\n",
       "\n",
       "    .dataframe thead th {\n",
       "        text-align: right;\n",
       "    }\n",
       "</style>\n",
       "<table border=\"1\" class=\"dataframe\">\n",
       "  <thead>\n",
       "    <tr style=\"text-align: right;\">\n",
       "      <th></th>\n",
       "      <th>filename</th>\n",
       "      <th>time_abs(%Y-%m-%dT%H:%M:%S.%f)</th>\n",
       "      <th>time_rel(sec)</th>\n",
       "      <th>evid</th>\n",
       "    </tr>\n",
       "  </thead>\n",
       "  <tbody>\n",
       "    <tr>\n",
       "      <th>0</th>\n",
       "      <td>XB.ELYSE.02.BHV.2022-02-03HR08_evid0005.csv</td>\n",
       "      <td>2022-02-03T08:08:27.000000</td>\n",
       "      <td>507.0</td>\n",
       "      <td>evid0005</td>\n",
       "    </tr>\n",
       "    <tr>\n",
       "      <th>1</th>\n",
       "      <td>XB.ELYSE.02.BHV.2022-01-02HR04_evid0006.csv</td>\n",
       "      <td>2022-01-02T04:35:30.000000</td>\n",
       "      <td>2130.0</td>\n",
       "      <td>evid0006</td>\n",
       "    </tr>\n",
       "  </tbody>\n",
       "</table>\n",
       "</div>"
      ],
      "text/plain": [
       "                                      filename time_abs(%Y-%m-%dT%H:%M:%S.%f)  \\\n",
       "0  XB.ELYSE.02.BHV.2022-02-03HR08_evid0005.csv     2022-02-03T08:08:27.000000   \n",
       "1  XB.ELYSE.02.BHV.2022-01-02HR04_evid0006.csv     2022-01-02T04:35:30.000000   \n",
       "\n",
       "   time_rel(sec)      evid  \n",
       "0          507.0  evid0005  \n",
       "1         2130.0  evid0006  "
      ]
     },
     "execution_count": 22,
     "metadata": {},
     "output_type": "execute_result"
    }
   ],
   "source": [
    "training_dir = \"nasa_space_apps_2024_seismic_detection_data/data/mars/training/data\"\n",
    "catalog = pd.read_csv('nasa_space_apps_2024_seismic_detection_data/data/mars/training/catalogs/Mars_InSight_training_catalog_final.csv')\n",
    "catalog"
   ]
  },
  {
   "cell_type": "code",
   "execution_count": 23,
   "metadata": {},
   "outputs": [],
   "source": [
    "for i in range(len(catalog)):\n",
    "    try:\n",
    "        eventID = re.search('evid(\\d+)', catalog['filename'][i]).group(1)\n",
    "        velocity_data = pd.read_csv(\n",
    "            filepath_or_buffer=f\"{training_dir}/{catalog['filename'][i]}\"\n",
    "        )[\"velocity(c/s)\"].to_list()\n",
    "        dictionary = {\n",
    "            \"time_rel\": catalog[\"time_rel(sec)\"][i],\n",
    "            \"velocity\": velocity_data,\n",
    "        }\n",
    "        df = pd.DataFrame(dictionary)\n",
    "        df.to_csv(path_or_buf=f\"data/mars_train_{eventID}.csv\", index=False)\n",
    "    except Exception as e:\n",
    "        print(catalog[\"filename\"][i] + \" failed \" + str(object=e))"
   ]
  },
  {
   "cell_type": "markdown",
   "metadata": {},
   "source": [
    "## Testing"
   ]
  },
  {
   "cell_type": "code",
   "execution_count": 24,
   "metadata": {},
   "outputs": [],
   "source": [
    "testing_dirs = [\"nasa_space_apps_2024_seismic_detection_data/data/mars/test/data\"]"
   ]
  },
  {
   "cell_type": "code",
   "execution_count": 25,
   "metadata": {},
   "outputs": [
    {
     "data": {
      "text/plain": [
       "['nasa_space_apps_2024_seismic_detection_data/data/mars/test/data']"
      ]
     },
     "execution_count": 25,
     "metadata": {},
     "output_type": "execute_result"
    }
   ],
   "source": [
    "testing_dirs"
   ]
  },
  {
   "cell_type": "code",
   "execution_count": 26,
   "metadata": {},
   "outputs": [],
   "source": [
    "for j in range(len(testing_dirs)):\n",
    "    for i in range(len(os.listdir(testing_dirs[j]))):\n",
    "        try:\n",
    "            filename = f\"{testing_dirs[j]}/{os.listdir(testing_dirs[j])[i]}\"\n",
    "            eventID = re.search('evid(\\d+)', filename).group(1)\n",
    "            if filename.endswith('.csv') is not True:\n",
    "                continue\n",
    "            # print(filename)\n",
    "            # print(eventID)\n",
    "            velocity_data = pd.read_csv(\n",
    "                filepath_or_buffer=filename\n",
    "            )[\"velocity(c/s)\"].to_list()\n",
    "            time_rel = pd.read_csv(\n",
    "                filepath_or_buffer=filename\n",
    "            )[\"rel_time(sec)\"].to_list()\n",
    "            dictionary = {\n",
    "                \"time_rel\": time_rel,\n",
    "                \"velocity\": velocity_data,\n",
    "            }\n",
    "            df = pd.DataFrame(dictionary)\n",
    "            df.to_csv(path_or_buf=f\"data/mars_test_{eventID}.csv\", index=False)\n",
    "        except Exception as e:\n",
    "            print(filename + \" failed \" + str(object=e))"
   ]
  },
  {
   "cell_type": "markdown",
   "metadata": {},
   "source": [
    "# split train and test data"
   ]
  },
  {
   "cell_type": "code",
   "execution_count": 38,
   "metadata": {},
   "outputs": [],
   "source": [
    "for i in range(len(os.listdir(\"seismic_data\"))):\n",
    "    try:\n",
    "        filename = os.listdir(\"data\")[i]\n",
    "        if filename.endswith('.csv') is not True:\n",
    "            continue\n",
    "        # print(filename)\n",
    "        # if filename contains \"test\" move to test folder\n",
    "        if \"test\" in filename:\n",
    "            os.rename(f\"seismic_data/data/{filename}\", f\"seismic_data/data/test/{filename}\")\n",
    "        else:\n",
    "            os.rename(f\"seismic_data/data/{filename}\", f\"seismic_data/data/train/{filename}\")\n",
    "    except Exception as e:\n",
    "        print(filename + \" failed \" + str(object=e))"
   ]
  },
  {
   "cell_type": "code",
   "execution_count": 4,
   "metadata": {},
   "outputs": [
    {
     "name": "stdout",
     "output_type": "stream",
     "text": [
      "mars failed [Errno 22] Invalid argument: 'seismic_data/data/train/mars' -> 'seismic_data/data/train/mars/mars'\n",
      "mars failed list index out of range\n",
      "mars failed list index out of range\n",
      "mars failed list index out of range\n",
      "mars failed list index out of range\n",
      "mars failed list index out of range\n",
      "mars failed list index out of range\n",
      "mars failed list index out of range\n",
      "mars failed list index out of range\n",
      "mars failed list index out of range\n",
      "mars failed list index out of range\n",
      "mars failed list index out of range\n",
      "mars failed list index out of range\n",
      "mars failed list index out of range\n",
      "mars failed list index out of range\n",
      "mars failed list index out of range\n",
      "mars failed list index out of range\n",
      "mars failed list index out of range\n",
      "mars failed list index out of range\n",
      "mars failed list index out of range\n",
      "mars failed list index out of range\n",
      "mars failed list index out of range\n",
      "mars failed list index out of range\n",
      "mars failed list index out of range\n",
      "mars failed list index out of range\n",
      "mars failed list index out of range\n",
      "mars failed list index out of range\n",
      "mars failed list index out of range\n",
      "mars failed list index out of range\n",
      "mars failed list index out of range\n",
      "mars failed list index out of range\n",
      "mars failed list index out of range\n",
      "mars failed list index out of range\n",
      "mars failed list index out of range\n",
      "mars failed list index out of range\n",
      "mars failed list index out of range\n",
      "mars failed list index out of range\n",
      "mars failed list index out of range\n",
      "mars failed list index out of range\n",
      "mars failed list index out of range\n"
     ]
    }
   ],
   "source": [
    "for i in range(len(os.listdir(\"seismic_data/data/train\"))):\n",
    "    try:\n",
    "        filename = os.listdir(\"seismic_data/data/train\")[i]\n",
    "        if filename.endswith('.csv') is not True:\n",
    "            continue\n",
    "        if \"lunar\" in filename:\n",
    "            os.rename(f\"seismic_data/data/train/{filename}\", f\"seismic_data/data/train/moon/{filename}\")\n",
    "        else:\n",
    "            os.rename(f\"seismic_data/data/train/{filename}\", f\"seismic_data/data/train/mars/{filename}\")\n",
    "    except Exception as e:\n",
    "        print(filename + \" failed \" + str(object=e))"
   ]
  }
 ],
 "metadata": {
  "kernelspec": {
   "display_name": "Python 3",
   "language": "python",
   "name": "python3"
  },
  "language_info": {
   "codemirror_mode": {
    "name": "ipython",
    "version": 3
   },
   "file_extension": ".py",
   "mimetype": "text/x-python",
   "name": "python",
   "nbconvert_exporter": "python",
   "pygments_lexer": "ipython3",
   "version": "3.12.4"
  }
 },
 "nbformat": 4,
 "nbformat_minor": 4
}
