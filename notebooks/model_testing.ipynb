{
 "cells": [
  {
   "cell_type": "code",
   "execution_count": 1,
   "metadata": {},
   "outputs": [
    {
     "name": "stderr",
     "output_type": "stream",
     "text": [
      "2024-10-04 18:06:53.465862: I tensorflow/core/util/port.cc:153] oneDNN custom operations are on. You may see slightly different numerical results due to floating-point round-off errors from different computation orders. To turn them off, set the environment variable `TF_ENABLE_ONEDNN_OPTS=0`.\n",
      "2024-10-04 18:06:53.466322: I external/local_xla/xla/tsl/cuda/cudart_stub.cc:32] Could not find cuda drivers on your machine, GPU will not be used.\n",
      "2024-10-04 18:06:53.468531: I external/local_xla/xla/tsl/cuda/cudart_stub.cc:32] Could not find cuda drivers on your machine, GPU will not be used.\n",
      "2024-10-04 18:06:53.474609: E external/local_xla/xla/stream_executor/cuda/cuda_fft.cc:485] Unable to register cuFFT factory: Attempting to register factory for plugin cuFFT when one has already been registered\n",
      "2024-10-04 18:06:53.484842: E external/local_xla/xla/stream_executor/cuda/cuda_dnn.cc:8454] Unable to register cuDNN factory: Attempting to register factory for plugin cuDNN when one has already been registered\n",
      "2024-10-04 18:06:53.487714: E external/local_xla/xla/stream_executor/cuda/cuda_blas.cc:1452] Unable to register cuBLAS factory: Attempting to register factory for plugin cuBLAS when one has already been registered\n",
      "2024-10-04 18:06:53.495256: I tensorflow/core/platform/cpu_feature_guard.cc:210] This TensorFlow binary is optimized to use available CPU instructions in performance-critical operations.\n",
      "To enable the following instructions: AVX2 AVX_VNNI FMA, in other operations, rebuild TensorFlow with the appropriate compiler flags.\n",
      "2024-10-04 18:06:54.357442: W tensorflow/compiler/tf2tensorrt/utils/py_utils.cc:38] TF-TRT Warning: Could not find TensorRT\n"
     ]
    }
   ],
   "source": [
    "import polars as pl\n",
    "import tensorflow as tf\n",
    "import matplotlib.pyplot as plt\n",
    "import os\n",
    "import numpy as np"
   ]
  },
  {
   "cell_type": "code",
   "execution_count": 2,
   "metadata": {},
   "outputs": [
    {
     "name": "stdout",
     "output_type": "stream",
     "text": [
      "/run/media/mohamed/MyData/Development/seismic_detection/notebooks\n"
     ]
    }
   ],
   "source": [
    "!pwd"
   ]
  },
  {
   "cell_type": "code",
   "execution_count": 3,
   "metadata": {},
   "outputs": [],
   "source": [
    "data_dir = \"../../seismic_data/data/\"\n",
    "files: list[str] = []\n",
    "for root, dirs, file in os.walk(data_dir):\n",
    "    for f in file:\n",
    "        files.append(os.path.join(root, f))\n",
    "files = sorted(files)"
   ]
  },
  {
   "cell_type": "code",
   "execution_count": 4,
   "metadata": {},
   "outputs": [
    {
     "data": {
      "text/plain": [
       "['../../seismic_data/data/test/mars/0001.csv',\n",
       " '../../seismic_data/data/test/mars/0002.csv',\n",
       " '../../seismic_data/data/test/mars/0007.csv',\n",
       " '../../seismic_data/data/test/mars/0011.csv',\n",
       " '../../seismic_data/data/test/mars/0017.csv',\n",
       " '../../seismic_data/data/test/mars/0032.csv',\n",
       " '../../seismic_data/data/test/mars/0033.csv',\n",
       " '../../seismic_data/data/test/mars/0034.csv',\n",
       " '../../seismic_data/data/test/mars/0041.csv',\n",
       " '../../seismic_data/data/test/moon/12_b_00006.csv',\n",
       " '../../seismic_data/data/test/moon/12_b_00007.csv',\n",
       " '../../seismic_data/data/test/moon/12_b_00014.csv',\n",
       " '../../seismic_data/data/test/moon/12_b_00016.csv',\n",
       " '../../seismic_data/data/test/moon/12_b_00018.csv',\n",
       " '../../seismic_data/data/test/moon/12_b_00020.csv',\n",
       " '../../seismic_data/data/test/moon/12_b_00021.csv',\n",
       " '../../seismic_data/data/test/moon/12_b_00026.csv',\n",
       " '../../seismic_data/data/test/moon/12_b_00027.csv',\n",
       " '../../seismic_data/data/test/moon/12_b_00028.csv',\n",
       " '../../seismic_data/data/test/moon/12_b_00029.csv',\n",
       " '../../seismic_data/data/test/moon/12_b_00031.csv',\n",
       " '../../seismic_data/data/test/moon/12_b_00035.csv',\n",
       " '../../seismic_data/data/test/moon/12_b_00036.csv',\n",
       " '../../seismic_data/data/test/moon/12_b_00037.csv',\n",
       " '../../seismic_data/data/test/moon/12_b_00039.csv',\n",
       " '../../seismic_data/data/test/moon/12_b_00043.csv',\n",
       " '../../seismic_data/data/test/moon/12_b_00049.csv',\n",
       " '../../seismic_data/data/test/moon/12_b_00050.csv',\n",
       " '../../seismic_data/data/test/moon/12_b_00051.csv',\n",
       " '../../seismic_data/data/test/moon/12_b_00057.csv',\n",
       " '../../seismic_data/data/test/moon/12_b_00059.csv',\n",
       " '../../seismic_data/data/test/moon/12_b_00060.csv',\n",
       " '../../seismic_data/data/test/moon/12_b_00073.csv',\n",
       " '../../seismic_data/data/test/moon/12_b_00083.csv',\n",
       " '../../seismic_data/data/test/moon/12_b_00092.csv',\n",
       " '../../seismic_data/data/test/moon/12_b_00096.csv',\n",
       " '../../seismic_data/data/test/moon/12_b_00101.csv',\n",
       " '../../seismic_data/data/test/moon/12_b_00124.csv',\n",
       " '../../seismic_data/data/test/moon/12_b_00125.csv',\n",
       " '../../seismic_data/data/test/moon/12_b_00133.csv',\n",
       " '../../seismic_data/data/test/moon/12_b_00156.csv',\n",
       " '../../seismic_data/data/test/moon/12_b_00186.csv',\n",
       " '../../seismic_data/data/test/moon/12_b_00190.csv',\n",
       " '../../seismic_data/data/test/moon/12_b_00192.csv',\n",
       " '../../seismic_data/data/test/moon/12_b_00223.csv',\n",
       " '../../seismic_data/data/test/moon/12_b_00228.csv',\n",
       " '../../seismic_data/data/test/moon/12_b_00331.csv',\n",
       " '../../seismic_data/data/test/moon/12_b_00335.csv',\n",
       " '../../seismic_data/data/test/moon/12_b_00341.csv',\n",
       " '../../seismic_data/data/test/moon/12_b_00342.csv',\n",
       " '../../seismic_data/data/test/moon/12_b_00349.csv',\n",
       " '../../seismic_data/data/test/moon/12_b_00384.csv',\n",
       " '../../seismic_data/data/test/moon/12_b_00399.csv',\n",
       " '../../seismic_data/data/test/moon/12_b_00437.csv',\n",
       " '../../seismic_data/data/test/moon/12_b_00461.csv',\n",
       " '../../seismic_data/data/test/moon/12_b_00463.csv',\n",
       " '../../seismic_data/data/test/moon/12_b_00475.csv',\n",
       " '../../seismic_data/data/test/moon/12_b_00506.csv',\n",
       " '../../seismic_data/data/test/moon/12_b_00512.csv',\n",
       " '../../seismic_data/data/test/moon/12_b_00522.csv',\n",
       " '../../seismic_data/data/test/moon/12_b_00543.csv',\n",
       " '../../seismic_data/data/test/moon/12_b_00553.csv',\n",
       " '../../seismic_data/data/test/moon/12_b_00572.csv',\n",
       " '../../seismic_data/data/test/moon/12_b_00638.csv',\n",
       " '../../seismic_data/data/test/moon/12_b_00651.csv',\n",
       " '../../seismic_data/data/test/moon/12_b_00652.csv',\n",
       " '../../seismic_data/data/test/moon/12_b_00660.csv',\n",
       " '../../seismic_data/data/test/moon/12_b_00662.csv',\n",
       " '../../seismic_data/data/test/moon/12_b_00915.csv',\n",
       " '../../seismic_data/data/test/moon/12_b_00923.csv',\n",
       " '../../seismic_data/data/test/moon/12_b_00924.csv',\n",
       " '../../seismic_data/data/test/moon/12_b_00991.csv',\n",
       " '../../seismic_data/data/test/moon/12_b_01012.csv',\n",
       " '../../seismic_data/data/test/moon/15_a_00098.csv',\n",
       " '../../seismic_data/data/test/moon/15_a_00126.csv',\n",
       " '../../seismic_data/data/test/moon/15_a_00134.csv',\n",
       " '../../seismic_data/data/test/moon/15_a_00157.csv',\n",
       " '../../seismic_data/data/test/moon/15_a_00162.csv',\n",
       " '../../seismic_data/data/test/moon/15_a_00166.csv',\n",
       " '../../seismic_data/data/test/moon/15_a_00169.csv',\n",
       " '../../seismic_data/data/test/moon/15_a_00170.csv',\n",
       " '../../seismic_data/data/test/moon/15_a_00190.csv',\n",
       " '../../seismic_data/data/test/moon/15_a_00194.csv',\n",
       " '../../seismic_data/data/test/moon/15_b_00497.csv',\n",
       " '../../seismic_data/data/test/moon/15_b_00536.csv',\n",
       " '../../seismic_data/data/test/moon/15_b_00542.csv',\n",
       " '../../seismic_data/data/test/moon/15_b_00557.csv',\n",
       " '../../seismic_data/data/test/moon/15_b_00653.csv',\n",
       " '../../seismic_data/data/test/moon/16_a_00075.csv',\n",
       " '../../seismic_data/data/test/moon/16_a_00079.csv',\n",
       " '../../seismic_data/data/test/moon/16_a_00080.csv',\n",
       " '../../seismic_data/data/test/moon/16_a_00081.csv',\n",
       " '../../seismic_data/data/test/moon/16_a_00123.csv',\n",
       " '../../seismic_data/data/test/moon/16_a_00146.csv',\n",
       " '../../seismic_data/data/test/moon/16_a_00160.csv',\n",
       " '../../seismic_data/data/test/moon/16_a_00168.csv',\n",
       " '../../seismic_data/data/test/moon/16_a_00172.csv',\n",
       " '../../seismic_data/data/test/moon/16_a_00174.csv',\n",
       " '../../seismic_data/data/test/moon/16_a_00180.csv',\n",
       " '../../seismic_data/data/test/moon/16_a_00186.csv',\n",
       " '../../seismic_data/data/test/moon/16_a_00249.csv',\n",
       " '../../seismic_data/data/test/moon/16_a_00255.csv',\n",
       " '../../seismic_data/data/test/moon/16_b_00443.csv',\n",
       " '../../seismic_data/data/test/moon/16_b_00487.csv',\n",
       " '../../seismic_data/data/test/moon/16_b_00587.csv',\n",
       " '../../seismic_data/data/train/mars/0005.csv',\n",
       " '../../seismic_data/data/train/mars/0006.csv',\n",
       " '../../seismic_data/data/train/moon/12_a_00002.csv',\n",
       " '../../seismic_data/data/train/moon/12_a_00003.csv',\n",
       " '../../seismic_data/data/train/moon/12_a_00004.csv',\n",
       " '../../seismic_data/data/train/moon/12_a_00006.csv',\n",
       " '../../seismic_data/data/train/moon/12_a_00007.csv',\n",
       " '../../seismic_data/data/train/moon/12_a_00008.csv',\n",
       " '../../seismic_data/data/train/moon/12_a_00009.csv',\n",
       " '../../seismic_data/data/train/moon/12_a_00010.csv',\n",
       " '../../seismic_data/data/train/moon/12_a_00011.csv',\n",
       " '../../seismic_data/data/train/moon/12_a_00013.csv',\n",
       " '../../seismic_data/data/train/moon/12_a_00014.csv',\n",
       " '../../seismic_data/data/train/moon/12_a_00015.csv',\n",
       " '../../seismic_data/data/train/moon/12_a_00017.csv',\n",
       " '../../seismic_data/data/train/moon/12_a_00019.csv',\n",
       " '../../seismic_data/data/train/moon/12_a_00021.csv',\n",
       " '../../seismic_data/data/train/moon/12_a_00022.csv',\n",
       " '../../seismic_data/data/train/moon/12_a_00023.csv',\n",
       " '../../seismic_data/data/train/moon/12_a_00024.csv',\n",
       " '../../seismic_data/data/train/moon/12_a_00026.csv',\n",
       " '../../seismic_data/data/train/moon/12_a_00028.csv',\n",
       " '../../seismic_data/data/train/moon/12_a_00030.csv',\n",
       " '../../seismic_data/data/train/moon/12_a_00031.csv',\n",
       " '../../seismic_data/data/train/moon/12_a_00032.csv',\n",
       " '../../seismic_data/data/train/moon/12_a_00033.csv',\n",
       " '../../seismic_data/data/train/moon/12_a_00034.csv',\n",
       " '../../seismic_data/data/train/moon/12_a_00035.csv',\n",
       " '../../seismic_data/data/train/moon/12_a_00042.csv',\n",
       " '../../seismic_data/data/train/moon/12_a_00043.csv',\n",
       " '../../seismic_data/data/train/moon/12_a_00044.csv',\n",
       " '../../seismic_data/data/train/moon/12_a_00045.csv',\n",
       " '../../seismic_data/data/train/moon/12_a_00046.csv',\n",
       " '../../seismic_data/data/train/moon/12_a_00049.csv',\n",
       " '../../seismic_data/data/train/moon/12_a_00052.csv',\n",
       " '../../seismic_data/data/train/moon/12_a_00055.csv',\n",
       " '../../seismic_data/data/train/moon/12_a_00060.csv',\n",
       " '../../seismic_data/data/train/moon/12_a_00067.csv',\n",
       " '../../seismic_data/data/train/moon/12_a_00068.csv',\n",
       " '../../seismic_data/data/train/moon/12_a_00070.csv',\n",
       " '../../seismic_data/data/train/moon/12_a_00071.csv',\n",
       " '../../seismic_data/data/train/moon/12_a_00083.csv',\n",
       " '../../seismic_data/data/train/moon/12_a_00084.csv',\n",
       " '../../seismic_data/data/train/moon/12_a_00088.csv',\n",
       " '../../seismic_data/data/train/moon/12_a_00091.csv',\n",
       " '../../seismic_data/data/train/moon/12_a_00093.csv',\n",
       " '../../seismic_data/data/train/moon/12_a_00094.csv',\n",
       " '../../seismic_data/data/train/moon/12_a_00097.csv',\n",
       " '../../seismic_data/data/train/moon/12_a_00104.csv',\n",
       " '../../seismic_data/data/train/moon/12_a_00107.csv',\n",
       " '../../seismic_data/data/train/moon/12_a_00108.csv',\n",
       " '../../seismic_data/data/train/moon/12_a_00109.csv',\n",
       " '../../seismic_data/data/train/moon/12_a_00112.csv',\n",
       " '../../seismic_data/data/train/moon/12_a_00113.csv',\n",
       " '../../seismic_data/data/train/moon/12_a_00114.csv',\n",
       " '../../seismic_data/data/train/moon/12_a_00117.csv',\n",
       " '../../seismic_data/data/train/moon/12_a_00120.csv',\n",
       " '../../seismic_data/data/train/moon/12_a_00121.csv',\n",
       " '../../seismic_data/data/train/moon/12_a_00127.csv',\n",
       " '../../seismic_data/data/train/moon/12_a_00136.csv',\n",
       " '../../seismic_data/data/train/moon/12_a_00137.csv',\n",
       " '../../seismic_data/data/train/moon/12_a_00138.csv',\n",
       " '../../seismic_data/data/train/moon/12_a_00140.csv',\n",
       " '../../seismic_data/data/train/moon/12_a_00141.csv',\n",
       " '../../seismic_data/data/train/moon/12_a_00142.csv',\n",
       " '../../seismic_data/data/train/moon/12_a_00144.csv',\n",
       " '../../seismic_data/data/train/moon/12_a_00145.csv',\n",
       " '../../seismic_data/data/train/moon/12_a_00149.csv',\n",
       " '../../seismic_data/data/train/moon/12_a_00150.csv',\n",
       " '../../seismic_data/data/train/moon/12_a_00151.csv',\n",
       " '../../seismic_data/data/train/moon/12_a_00152.csv',\n",
       " '../../seismic_data/data/train/moon/12_a_00153.csv',\n",
       " '../../seismic_data/data/train/moon/12_a_00156.csv',\n",
       " '../../seismic_data/data/train/moon/12_a_00191.csv',\n",
       " '../../seismic_data/data/train/moon/12_a_00192.csv',\n",
       " '../../seismic_data/data/train/moon/12_a_00196.csv',\n",
       " '../../seismic_data/data/train/moon/12_a_00198.csv']"
      ]
     },
     "execution_count": 4,
     "metadata": {},
     "output_type": "execute_result"
    }
   ],
   "source": [
    "files"
   ]
  },
  {
   "cell_type": "code",
   "execution_count": 5,
   "metadata": {},
   "outputs": [],
   "source": [
    "# split the data into training and testing\n",
    "files_train: list[str] = [file for file in files if \"train\" in file]\n",
    "files_test: list[str] = [file for file in files if \"test\" in file]"
   ]
  },
  {
   "cell_type": "code",
   "execution_count": 6,
   "metadata": {},
   "outputs": [
    {
     "data": {
      "text/plain": [
       "['../../seismic_data/data/train/mars/0005.csv',\n",
       " '../../seismic_data/data/train/mars/0006.csv',\n",
       " '../../seismic_data/data/train/moon/12_a_00002.csv',\n",
       " '../../seismic_data/data/train/moon/12_a_00003.csv',\n",
       " '../../seismic_data/data/train/moon/12_a_00004.csv',\n",
       " '../../seismic_data/data/train/moon/12_a_00006.csv',\n",
       " '../../seismic_data/data/train/moon/12_a_00007.csv',\n",
       " '../../seismic_data/data/train/moon/12_a_00008.csv',\n",
       " '../../seismic_data/data/train/moon/12_a_00009.csv',\n",
       " '../../seismic_data/data/train/moon/12_a_00010.csv',\n",
       " '../../seismic_data/data/train/moon/12_a_00011.csv',\n",
       " '../../seismic_data/data/train/moon/12_a_00013.csv',\n",
       " '../../seismic_data/data/train/moon/12_a_00014.csv',\n",
       " '../../seismic_data/data/train/moon/12_a_00015.csv',\n",
       " '../../seismic_data/data/train/moon/12_a_00017.csv',\n",
       " '../../seismic_data/data/train/moon/12_a_00019.csv',\n",
       " '../../seismic_data/data/train/moon/12_a_00021.csv',\n",
       " '../../seismic_data/data/train/moon/12_a_00022.csv',\n",
       " '../../seismic_data/data/train/moon/12_a_00023.csv',\n",
       " '../../seismic_data/data/train/moon/12_a_00024.csv',\n",
       " '../../seismic_data/data/train/moon/12_a_00026.csv',\n",
       " '../../seismic_data/data/train/moon/12_a_00028.csv',\n",
       " '../../seismic_data/data/train/moon/12_a_00030.csv',\n",
       " '../../seismic_data/data/train/moon/12_a_00031.csv',\n",
       " '../../seismic_data/data/train/moon/12_a_00032.csv',\n",
       " '../../seismic_data/data/train/moon/12_a_00033.csv',\n",
       " '../../seismic_data/data/train/moon/12_a_00034.csv',\n",
       " '../../seismic_data/data/train/moon/12_a_00035.csv',\n",
       " '../../seismic_data/data/train/moon/12_a_00042.csv',\n",
       " '../../seismic_data/data/train/moon/12_a_00043.csv',\n",
       " '../../seismic_data/data/train/moon/12_a_00044.csv',\n",
       " '../../seismic_data/data/train/moon/12_a_00045.csv',\n",
       " '../../seismic_data/data/train/moon/12_a_00046.csv',\n",
       " '../../seismic_data/data/train/moon/12_a_00049.csv',\n",
       " '../../seismic_data/data/train/moon/12_a_00052.csv',\n",
       " '../../seismic_data/data/train/moon/12_a_00055.csv',\n",
       " '../../seismic_data/data/train/moon/12_a_00060.csv',\n",
       " '../../seismic_data/data/train/moon/12_a_00067.csv',\n",
       " '../../seismic_data/data/train/moon/12_a_00068.csv',\n",
       " '../../seismic_data/data/train/moon/12_a_00070.csv',\n",
       " '../../seismic_data/data/train/moon/12_a_00071.csv',\n",
       " '../../seismic_data/data/train/moon/12_a_00083.csv',\n",
       " '../../seismic_data/data/train/moon/12_a_00084.csv',\n",
       " '../../seismic_data/data/train/moon/12_a_00088.csv',\n",
       " '../../seismic_data/data/train/moon/12_a_00091.csv',\n",
       " '../../seismic_data/data/train/moon/12_a_00093.csv',\n",
       " '../../seismic_data/data/train/moon/12_a_00094.csv',\n",
       " '../../seismic_data/data/train/moon/12_a_00097.csv',\n",
       " '../../seismic_data/data/train/moon/12_a_00104.csv',\n",
       " '../../seismic_data/data/train/moon/12_a_00107.csv',\n",
       " '../../seismic_data/data/train/moon/12_a_00108.csv',\n",
       " '../../seismic_data/data/train/moon/12_a_00109.csv',\n",
       " '../../seismic_data/data/train/moon/12_a_00112.csv',\n",
       " '../../seismic_data/data/train/moon/12_a_00113.csv',\n",
       " '../../seismic_data/data/train/moon/12_a_00114.csv',\n",
       " '../../seismic_data/data/train/moon/12_a_00117.csv',\n",
       " '../../seismic_data/data/train/moon/12_a_00120.csv',\n",
       " '../../seismic_data/data/train/moon/12_a_00121.csv',\n",
       " '../../seismic_data/data/train/moon/12_a_00127.csv',\n",
       " '../../seismic_data/data/train/moon/12_a_00136.csv',\n",
       " '../../seismic_data/data/train/moon/12_a_00137.csv',\n",
       " '../../seismic_data/data/train/moon/12_a_00138.csv',\n",
       " '../../seismic_data/data/train/moon/12_a_00140.csv',\n",
       " '../../seismic_data/data/train/moon/12_a_00141.csv',\n",
       " '../../seismic_data/data/train/moon/12_a_00142.csv',\n",
       " '../../seismic_data/data/train/moon/12_a_00144.csv',\n",
       " '../../seismic_data/data/train/moon/12_a_00145.csv',\n",
       " '../../seismic_data/data/train/moon/12_a_00149.csv',\n",
       " '../../seismic_data/data/train/moon/12_a_00150.csv',\n",
       " '../../seismic_data/data/train/moon/12_a_00151.csv',\n",
       " '../../seismic_data/data/train/moon/12_a_00152.csv',\n",
       " '../../seismic_data/data/train/moon/12_a_00153.csv',\n",
       " '../../seismic_data/data/train/moon/12_a_00156.csv',\n",
       " '../../seismic_data/data/train/moon/12_a_00191.csv',\n",
       " '../../seismic_data/data/train/moon/12_a_00192.csv',\n",
       " '../../seismic_data/data/train/moon/12_a_00196.csv',\n",
       " '../../seismic_data/data/train/moon/12_a_00198.csv']"
      ]
     },
     "execution_count": 6,
     "metadata": {},
     "output_type": "execute_result"
    }
   ],
   "source": [
    "files_train"
   ]
  },
  {
   "cell_type": "code",
   "execution_count": 7,
   "metadata": {},
   "outputs": [
    {
     "data": {
      "text/plain": [
       "['../../seismic_data/data/test/mars/0001.csv',\n",
       " '../../seismic_data/data/test/mars/0002.csv',\n",
       " '../../seismic_data/data/test/mars/0007.csv',\n",
       " '../../seismic_data/data/test/mars/0011.csv',\n",
       " '../../seismic_data/data/test/mars/0017.csv',\n",
       " '../../seismic_data/data/test/mars/0032.csv',\n",
       " '../../seismic_data/data/test/mars/0033.csv',\n",
       " '../../seismic_data/data/test/mars/0034.csv',\n",
       " '../../seismic_data/data/test/mars/0041.csv',\n",
       " '../../seismic_data/data/test/moon/12_b_00006.csv',\n",
       " '../../seismic_data/data/test/moon/12_b_00007.csv',\n",
       " '../../seismic_data/data/test/moon/12_b_00014.csv',\n",
       " '../../seismic_data/data/test/moon/12_b_00016.csv',\n",
       " '../../seismic_data/data/test/moon/12_b_00018.csv',\n",
       " '../../seismic_data/data/test/moon/12_b_00020.csv',\n",
       " '../../seismic_data/data/test/moon/12_b_00021.csv',\n",
       " '../../seismic_data/data/test/moon/12_b_00026.csv',\n",
       " '../../seismic_data/data/test/moon/12_b_00027.csv',\n",
       " '../../seismic_data/data/test/moon/12_b_00028.csv',\n",
       " '../../seismic_data/data/test/moon/12_b_00029.csv',\n",
       " '../../seismic_data/data/test/moon/12_b_00031.csv',\n",
       " '../../seismic_data/data/test/moon/12_b_00035.csv',\n",
       " '../../seismic_data/data/test/moon/12_b_00036.csv',\n",
       " '../../seismic_data/data/test/moon/12_b_00037.csv',\n",
       " '../../seismic_data/data/test/moon/12_b_00039.csv',\n",
       " '../../seismic_data/data/test/moon/12_b_00043.csv',\n",
       " '../../seismic_data/data/test/moon/12_b_00049.csv',\n",
       " '../../seismic_data/data/test/moon/12_b_00050.csv',\n",
       " '../../seismic_data/data/test/moon/12_b_00051.csv',\n",
       " '../../seismic_data/data/test/moon/12_b_00057.csv',\n",
       " '../../seismic_data/data/test/moon/12_b_00059.csv',\n",
       " '../../seismic_data/data/test/moon/12_b_00060.csv',\n",
       " '../../seismic_data/data/test/moon/12_b_00073.csv',\n",
       " '../../seismic_data/data/test/moon/12_b_00083.csv',\n",
       " '../../seismic_data/data/test/moon/12_b_00092.csv',\n",
       " '../../seismic_data/data/test/moon/12_b_00096.csv',\n",
       " '../../seismic_data/data/test/moon/12_b_00101.csv',\n",
       " '../../seismic_data/data/test/moon/12_b_00124.csv',\n",
       " '../../seismic_data/data/test/moon/12_b_00125.csv',\n",
       " '../../seismic_data/data/test/moon/12_b_00133.csv',\n",
       " '../../seismic_data/data/test/moon/12_b_00156.csv',\n",
       " '../../seismic_data/data/test/moon/12_b_00186.csv',\n",
       " '../../seismic_data/data/test/moon/12_b_00190.csv',\n",
       " '../../seismic_data/data/test/moon/12_b_00192.csv',\n",
       " '../../seismic_data/data/test/moon/12_b_00223.csv',\n",
       " '../../seismic_data/data/test/moon/12_b_00228.csv',\n",
       " '../../seismic_data/data/test/moon/12_b_00331.csv',\n",
       " '../../seismic_data/data/test/moon/12_b_00335.csv',\n",
       " '../../seismic_data/data/test/moon/12_b_00341.csv',\n",
       " '../../seismic_data/data/test/moon/12_b_00342.csv',\n",
       " '../../seismic_data/data/test/moon/12_b_00349.csv',\n",
       " '../../seismic_data/data/test/moon/12_b_00384.csv',\n",
       " '../../seismic_data/data/test/moon/12_b_00399.csv',\n",
       " '../../seismic_data/data/test/moon/12_b_00437.csv',\n",
       " '../../seismic_data/data/test/moon/12_b_00461.csv',\n",
       " '../../seismic_data/data/test/moon/12_b_00463.csv',\n",
       " '../../seismic_data/data/test/moon/12_b_00475.csv',\n",
       " '../../seismic_data/data/test/moon/12_b_00506.csv',\n",
       " '../../seismic_data/data/test/moon/12_b_00512.csv',\n",
       " '../../seismic_data/data/test/moon/12_b_00522.csv',\n",
       " '../../seismic_data/data/test/moon/12_b_00543.csv',\n",
       " '../../seismic_data/data/test/moon/12_b_00553.csv',\n",
       " '../../seismic_data/data/test/moon/12_b_00572.csv',\n",
       " '../../seismic_data/data/test/moon/12_b_00638.csv',\n",
       " '../../seismic_data/data/test/moon/12_b_00651.csv',\n",
       " '../../seismic_data/data/test/moon/12_b_00652.csv',\n",
       " '../../seismic_data/data/test/moon/12_b_00660.csv',\n",
       " '../../seismic_data/data/test/moon/12_b_00662.csv',\n",
       " '../../seismic_data/data/test/moon/12_b_00915.csv',\n",
       " '../../seismic_data/data/test/moon/12_b_00923.csv',\n",
       " '../../seismic_data/data/test/moon/12_b_00924.csv',\n",
       " '../../seismic_data/data/test/moon/12_b_00991.csv',\n",
       " '../../seismic_data/data/test/moon/12_b_01012.csv',\n",
       " '../../seismic_data/data/test/moon/15_a_00098.csv',\n",
       " '../../seismic_data/data/test/moon/15_a_00126.csv',\n",
       " '../../seismic_data/data/test/moon/15_a_00134.csv',\n",
       " '../../seismic_data/data/test/moon/15_a_00157.csv',\n",
       " '../../seismic_data/data/test/moon/15_a_00162.csv',\n",
       " '../../seismic_data/data/test/moon/15_a_00166.csv',\n",
       " '../../seismic_data/data/test/moon/15_a_00169.csv',\n",
       " '../../seismic_data/data/test/moon/15_a_00170.csv',\n",
       " '../../seismic_data/data/test/moon/15_a_00190.csv',\n",
       " '../../seismic_data/data/test/moon/15_a_00194.csv',\n",
       " '../../seismic_data/data/test/moon/15_b_00497.csv',\n",
       " '../../seismic_data/data/test/moon/15_b_00536.csv',\n",
       " '../../seismic_data/data/test/moon/15_b_00542.csv',\n",
       " '../../seismic_data/data/test/moon/15_b_00557.csv',\n",
       " '../../seismic_data/data/test/moon/15_b_00653.csv',\n",
       " '../../seismic_data/data/test/moon/16_a_00075.csv',\n",
       " '../../seismic_data/data/test/moon/16_a_00079.csv',\n",
       " '../../seismic_data/data/test/moon/16_a_00080.csv',\n",
       " '../../seismic_data/data/test/moon/16_a_00081.csv',\n",
       " '../../seismic_data/data/test/moon/16_a_00123.csv',\n",
       " '../../seismic_data/data/test/moon/16_a_00146.csv',\n",
       " '../../seismic_data/data/test/moon/16_a_00160.csv',\n",
       " '../../seismic_data/data/test/moon/16_a_00168.csv',\n",
       " '../../seismic_data/data/test/moon/16_a_00172.csv',\n",
       " '../../seismic_data/data/test/moon/16_a_00174.csv',\n",
       " '../../seismic_data/data/test/moon/16_a_00180.csv',\n",
       " '../../seismic_data/data/test/moon/16_a_00186.csv',\n",
       " '../../seismic_data/data/test/moon/16_a_00249.csv',\n",
       " '../../seismic_data/data/test/moon/16_a_00255.csv',\n",
       " '../../seismic_data/data/test/moon/16_b_00443.csv',\n",
       " '../../seismic_data/data/test/moon/16_b_00487.csv',\n",
       " '../../seismic_data/data/test/moon/16_b_00587.csv']"
      ]
     },
     "execution_count": 7,
     "metadata": {},
     "output_type": "execute_result"
    }
   ],
   "source": [
    "files_test"
   ]
  },
  {
   "cell_type": "code",
   "execution_count": 8,
   "metadata": {},
   "outputs": [
    {
     "name": "stderr",
     "output_type": "stream",
     "text": [
      "WARNING: All log messages before absl::InitializeLog() is called are written to STDERR\n",
      "I0000 00:00:1728054415.652790   39433 cuda_executor.cc:1015] successful NUMA node read from SysFS had negative value (-1), but there must be at least one NUMA node, so returning NUMA node zero. See more at https://github.com/torvalds/linux/blob/v6.0/Documentation/ABI/testing/sysfs-bus-pci#L344-L355\n",
      "2024-10-04 18:06:55.657895: W tensorflow/core/common_runtime/gpu/gpu_device.cc:2343] Cannot dlopen some GPU libraries. Please make sure the missing libraries mentioned above are installed properly if you would like to use GPU. Follow the guide at https://www.tensorflow.org/install/gpu for how to download and setup the required libraries for your platform.\n",
      "Skipping registering GPU devices...\n",
      "WARNING:absl:Compiled the loaded model, but the compiled metrics have yet to be built. `model.compile_metrics` will be empty until you train or evaluate the model.\n"
     ]
    },
    {
     "data": {
      "text/html": [
       "<pre style=\"white-space:pre;overflow-x:auto;line-height:normal;font-family:Menlo,'DejaVu Sans Mono',consolas,'Courier New',monospace\"><span style=\"font-weight: bold\">Model: \"sequential_1\"</span>\n",
       "</pre>\n"
      ],
      "text/plain": [
       "\u001b[1mModel: \"sequential_1\"\u001b[0m\n"
      ]
     },
     "metadata": {},
     "output_type": "display_data"
    },
    {
     "data": {
      "text/html": [
       "<pre style=\"white-space:pre;overflow-x:auto;line-height:normal;font-family:Menlo,'DejaVu Sans Mono',consolas,'Courier New',monospace\">┏━━━━━━━━━━━━━━━━━━━━━━━━━━━━━━━━━┳━━━━━━━━━━━━━━━━━━━━━━━━┳━━━━━━━━━━━━━━━┓\n",
       "┃<span style=\"font-weight: bold\"> Layer (type)                    </span>┃<span style=\"font-weight: bold\"> Output Shape           </span>┃<span style=\"font-weight: bold\">       Param # </span>┃\n",
       "┡━━━━━━━━━━━━━━━━━━━━━━━━━━━━━━━━━╇━━━━━━━━━━━━━━━━━━━━━━━━╇━━━━━━━━━━━━━━━┩\n",
       "│ conv1d_2 (<span style=\"color: #0087ff; text-decoration-color: #0087ff\">Conv1D</span>)               │ (<span style=\"color: #00d7ff; text-decoration-color: #00d7ff\">None</span>, <span style=\"color: #00af00; text-decoration-color: #00af00\">498</span>, <span style=\"color: #00af00; text-decoration-color: #00af00\">64</span>)        │           <span style=\"color: #00af00; text-decoration-color: #00af00\">448</span> │\n",
       "├─────────────────────────────────┼────────────────────────┼───────────────┤\n",
       "│ batch_normalization_2           │ (<span style=\"color: #00d7ff; text-decoration-color: #00d7ff\">None</span>, <span style=\"color: #00af00; text-decoration-color: #00af00\">498</span>, <span style=\"color: #00af00; text-decoration-color: #00af00\">64</span>)        │           <span style=\"color: #00af00; text-decoration-color: #00af00\">256</span> │\n",
       "│ (<span style=\"color: #0087ff; text-decoration-color: #0087ff\">BatchNormalization</span>)            │                        │               │\n",
       "├─────────────────────────────────┼────────────────────────┼───────────────┤\n",
       "│ max_pooling1d_2 (<span style=\"color: #0087ff; text-decoration-color: #0087ff\">MaxPooling1D</span>)  │ (<span style=\"color: #00d7ff; text-decoration-color: #00d7ff\">None</span>, <span style=\"color: #00af00; text-decoration-color: #00af00\">249</span>, <span style=\"color: #00af00; text-decoration-color: #00af00\">64</span>)        │             <span style=\"color: #00af00; text-decoration-color: #00af00\">0</span> │\n",
       "├─────────────────────────────────┼────────────────────────┼───────────────┤\n",
       "│ dropout_3 (<span style=\"color: #0087ff; text-decoration-color: #0087ff\">Dropout</span>)             │ (<span style=\"color: #00d7ff; text-decoration-color: #00d7ff\">None</span>, <span style=\"color: #00af00; text-decoration-color: #00af00\">249</span>, <span style=\"color: #00af00; text-decoration-color: #00af00\">64</span>)        │             <span style=\"color: #00af00; text-decoration-color: #00af00\">0</span> │\n",
       "├─────────────────────────────────┼────────────────────────┼───────────────┤\n",
       "│ conv1d_3 (<span style=\"color: #0087ff; text-decoration-color: #0087ff\">Conv1D</span>)               │ (<span style=\"color: #00d7ff; text-decoration-color: #00d7ff\">None</span>, <span style=\"color: #00af00; text-decoration-color: #00af00\">247</span>, <span style=\"color: #00af00; text-decoration-color: #00af00\">32</span>)        │         <span style=\"color: #00af00; text-decoration-color: #00af00\">6,176</span> │\n",
       "├─────────────────────────────────┼────────────────────────┼───────────────┤\n",
       "│ batch_normalization_3           │ (<span style=\"color: #00d7ff; text-decoration-color: #00d7ff\">None</span>, <span style=\"color: #00af00; text-decoration-color: #00af00\">247</span>, <span style=\"color: #00af00; text-decoration-color: #00af00\">32</span>)        │           <span style=\"color: #00af00; text-decoration-color: #00af00\">128</span> │\n",
       "│ (<span style=\"color: #0087ff; text-decoration-color: #0087ff\">BatchNormalization</span>)            │                        │               │\n",
       "├─────────────────────────────────┼────────────────────────┼───────────────┤\n",
       "│ max_pooling1d_3 (<span style=\"color: #0087ff; text-decoration-color: #0087ff\">MaxPooling1D</span>)  │ (<span style=\"color: #00d7ff; text-decoration-color: #00d7ff\">None</span>, <span style=\"color: #00af00; text-decoration-color: #00af00\">123</span>, <span style=\"color: #00af00; text-decoration-color: #00af00\">32</span>)        │             <span style=\"color: #00af00; text-decoration-color: #00af00\">0</span> │\n",
       "├─────────────────────────────────┼────────────────────────┼───────────────┤\n",
       "│ dropout_4 (<span style=\"color: #0087ff; text-decoration-color: #0087ff\">Dropout</span>)             │ (<span style=\"color: #00d7ff; text-decoration-color: #00d7ff\">None</span>, <span style=\"color: #00af00; text-decoration-color: #00af00\">123</span>, <span style=\"color: #00af00; text-decoration-color: #00af00\">32</span>)        │             <span style=\"color: #00af00; text-decoration-color: #00af00\">0</span> │\n",
       "├─────────────────────────────────┼────────────────────────┼───────────────┤\n",
       "│ flatten_1 (<span style=\"color: #0087ff; text-decoration-color: #0087ff\">Flatten</span>)             │ (<span style=\"color: #00d7ff; text-decoration-color: #00d7ff\">None</span>, <span style=\"color: #00af00; text-decoration-color: #00af00\">3936</span>)           │             <span style=\"color: #00af00; text-decoration-color: #00af00\">0</span> │\n",
       "├─────────────────────────────────┼────────────────────────┼───────────────┤\n",
       "│ dense_2 (<span style=\"color: #0087ff; text-decoration-color: #0087ff\">Dense</span>)                 │ (<span style=\"color: #00d7ff; text-decoration-color: #00d7ff\">None</span>, <span style=\"color: #00af00; text-decoration-color: #00af00\">64</span>)             │       <span style=\"color: #00af00; text-decoration-color: #00af00\">251,968</span> │\n",
       "├─────────────────────────────────┼────────────────────────┼───────────────┤\n",
       "│ dropout_5 (<span style=\"color: #0087ff; text-decoration-color: #0087ff\">Dropout</span>)             │ (<span style=\"color: #00d7ff; text-decoration-color: #00d7ff\">None</span>, <span style=\"color: #00af00; text-decoration-color: #00af00\">64</span>)             │             <span style=\"color: #00af00; text-decoration-color: #00af00\">0</span> │\n",
       "├─────────────────────────────────┼────────────────────────┼───────────────┤\n",
       "│ dense_3 (<span style=\"color: #0087ff; text-decoration-color: #0087ff\">Dense</span>)                 │ (<span style=\"color: #00d7ff; text-decoration-color: #00d7ff\">None</span>, <span style=\"color: #00af00; text-decoration-color: #00af00\">1</span>)              │            <span style=\"color: #00af00; text-decoration-color: #00af00\">65</span> │\n",
       "└─────────────────────────────────┴────────────────────────┴───────────────┘\n",
       "</pre>\n"
      ],
      "text/plain": [
       "┏━━━━━━━━━━━━━━━━━━━━━━━━━━━━━━━━━┳━━━━━━━━━━━━━━━━━━━━━━━━┳━━━━━━━━━━━━━━━┓\n",
       "┃\u001b[1m \u001b[0m\u001b[1mLayer (type)                   \u001b[0m\u001b[1m \u001b[0m┃\u001b[1m \u001b[0m\u001b[1mOutput Shape          \u001b[0m\u001b[1m \u001b[0m┃\u001b[1m \u001b[0m\u001b[1m      Param #\u001b[0m\u001b[1m \u001b[0m┃\n",
       "┡━━━━━━━━━━━━━━━━━━━━━━━━━━━━━━━━━╇━━━━━━━━━━━━━━━━━━━━━━━━╇━━━━━━━━━━━━━━━┩\n",
       "│ conv1d_2 (\u001b[38;5;33mConv1D\u001b[0m)               │ (\u001b[38;5;45mNone\u001b[0m, \u001b[38;5;34m498\u001b[0m, \u001b[38;5;34m64\u001b[0m)        │           \u001b[38;5;34m448\u001b[0m │\n",
       "├─────────────────────────────────┼────────────────────────┼───────────────┤\n",
       "│ batch_normalization_2           │ (\u001b[38;5;45mNone\u001b[0m, \u001b[38;5;34m498\u001b[0m, \u001b[38;5;34m64\u001b[0m)        │           \u001b[38;5;34m256\u001b[0m │\n",
       "│ (\u001b[38;5;33mBatchNormalization\u001b[0m)            │                        │               │\n",
       "├─────────────────────────────────┼────────────────────────┼───────────────┤\n",
       "│ max_pooling1d_2 (\u001b[38;5;33mMaxPooling1D\u001b[0m)  │ (\u001b[38;5;45mNone\u001b[0m, \u001b[38;5;34m249\u001b[0m, \u001b[38;5;34m64\u001b[0m)        │             \u001b[38;5;34m0\u001b[0m │\n",
       "├─────────────────────────────────┼────────────────────────┼───────────────┤\n",
       "│ dropout_3 (\u001b[38;5;33mDropout\u001b[0m)             │ (\u001b[38;5;45mNone\u001b[0m, \u001b[38;5;34m249\u001b[0m, \u001b[38;5;34m64\u001b[0m)        │             \u001b[38;5;34m0\u001b[0m │\n",
       "├─────────────────────────────────┼────────────────────────┼───────────────┤\n",
       "│ conv1d_3 (\u001b[38;5;33mConv1D\u001b[0m)               │ (\u001b[38;5;45mNone\u001b[0m, \u001b[38;5;34m247\u001b[0m, \u001b[38;5;34m32\u001b[0m)        │         \u001b[38;5;34m6,176\u001b[0m │\n",
       "├─────────────────────────────────┼────────────────────────┼───────────────┤\n",
       "│ batch_normalization_3           │ (\u001b[38;5;45mNone\u001b[0m, \u001b[38;5;34m247\u001b[0m, \u001b[38;5;34m32\u001b[0m)        │           \u001b[38;5;34m128\u001b[0m │\n",
       "│ (\u001b[38;5;33mBatchNormalization\u001b[0m)            │                        │               │\n",
       "├─────────────────────────────────┼────────────────────────┼───────────────┤\n",
       "│ max_pooling1d_3 (\u001b[38;5;33mMaxPooling1D\u001b[0m)  │ (\u001b[38;5;45mNone\u001b[0m, \u001b[38;5;34m123\u001b[0m, \u001b[38;5;34m32\u001b[0m)        │             \u001b[38;5;34m0\u001b[0m │\n",
       "├─────────────────────────────────┼────────────────────────┼───────────────┤\n",
       "│ dropout_4 (\u001b[38;5;33mDropout\u001b[0m)             │ (\u001b[38;5;45mNone\u001b[0m, \u001b[38;5;34m123\u001b[0m, \u001b[38;5;34m32\u001b[0m)        │             \u001b[38;5;34m0\u001b[0m │\n",
       "├─────────────────────────────────┼────────────────────────┼───────────────┤\n",
       "│ flatten_1 (\u001b[38;5;33mFlatten\u001b[0m)             │ (\u001b[38;5;45mNone\u001b[0m, \u001b[38;5;34m3936\u001b[0m)           │             \u001b[38;5;34m0\u001b[0m │\n",
       "├─────────────────────────────────┼────────────────────────┼───────────────┤\n",
       "│ dense_2 (\u001b[38;5;33mDense\u001b[0m)                 │ (\u001b[38;5;45mNone\u001b[0m, \u001b[38;5;34m64\u001b[0m)             │       \u001b[38;5;34m251,968\u001b[0m │\n",
       "├─────────────────────────────────┼────────────────────────┼───────────────┤\n",
       "│ dropout_5 (\u001b[38;5;33mDropout\u001b[0m)             │ (\u001b[38;5;45mNone\u001b[0m, \u001b[38;5;34m64\u001b[0m)             │             \u001b[38;5;34m0\u001b[0m │\n",
       "├─────────────────────────────────┼────────────────────────┼───────────────┤\n",
       "│ dense_3 (\u001b[38;5;33mDense\u001b[0m)                 │ (\u001b[38;5;45mNone\u001b[0m, \u001b[38;5;34m1\u001b[0m)              │            \u001b[38;5;34m65\u001b[0m │\n",
       "└─────────────────────────────────┴────────────────────────┴───────────────┘\n"
      ]
     },
     "metadata": {},
     "output_type": "display_data"
    },
    {
     "data": {
      "text/html": [
       "<pre style=\"white-space:pre;overflow-x:auto;line-height:normal;font-family:Menlo,'DejaVu Sans Mono',consolas,'Courier New',monospace\"><span style=\"font-weight: bold\"> Total params: </span><span style=\"color: #00af00; text-decoration-color: #00af00\">259,043</span> (1011.89 KB)\n",
       "</pre>\n"
      ],
      "text/plain": [
       "\u001b[1m Total params: \u001b[0m\u001b[38;5;34m259,043\u001b[0m (1011.89 KB)\n"
      ]
     },
     "metadata": {},
     "output_type": "display_data"
    },
    {
     "data": {
      "text/html": [
       "<pre style=\"white-space:pre;overflow-x:auto;line-height:normal;font-family:Menlo,'DejaVu Sans Mono',consolas,'Courier New',monospace\"><span style=\"font-weight: bold\"> Trainable params: </span><span style=\"color: #00af00; text-decoration-color: #00af00\">258,849</span> (1011.13 KB)\n",
       "</pre>\n"
      ],
      "text/plain": [
       "\u001b[1m Trainable params: \u001b[0m\u001b[38;5;34m258,849\u001b[0m (1011.13 KB)\n"
      ]
     },
     "metadata": {},
     "output_type": "display_data"
    },
    {
     "data": {
      "text/html": [
       "<pre style=\"white-space:pre;overflow-x:auto;line-height:normal;font-family:Menlo,'DejaVu Sans Mono',consolas,'Courier New',monospace\"><span style=\"font-weight: bold\"> Non-trainable params: </span><span style=\"color: #00af00; text-decoration-color: #00af00\">192</span> (768.00 B)\n",
       "</pre>\n"
      ],
      "text/plain": [
       "\u001b[1m Non-trainable params: \u001b[0m\u001b[38;5;34m192\u001b[0m (768.00 B)\n"
      ]
     },
     "metadata": {},
     "output_type": "display_data"
    },
    {
     "data": {
      "text/html": [
       "<pre style=\"white-space:pre;overflow-x:auto;line-height:normal;font-family:Menlo,'DejaVu Sans Mono',consolas,'Courier New',monospace\"><span style=\"font-weight: bold\"> Optimizer params: </span><span style=\"color: #00af00; text-decoration-color: #00af00\">2</span> (12.00 B)\n",
       "</pre>\n"
      ],
      "text/plain": [
       "\u001b[1m Optimizer params: \u001b[0m\u001b[38;5;34m2\u001b[0m (12.00 B)\n"
      ]
     },
     "metadata": {},
     "output_type": "display_data"
    }
   ],
   "source": [
    "# load h5\n",
    "model = tf.keras.models.load_model(\"../quake-detector/quake_detector.h5\")\n",
    "model.summary()"
   ]
  },
  {
   "cell_type": "code",
   "execution_count": null,
   "metadata": {},
   "outputs": [],
   "source": [
    "df_test = pl.read_csv(files_test[0])\n",
    "df_test = df_test[\"velocity\"].to_numpy()\n",
    "pred = []\n",
    "print(df_test.shape)\n",
    "for window in range(1000, len(df_test), 1000):\n",
    "    test = df_test[window-1000:window]\n",
    "    # print(test.shape)\n",
    "    test = test.reshape(-1, 500, 2)\n",
    "    prediction = model.predict(test)\n",
    "    pred.append(prediction)"
   ]
  },
  {
   "cell_type": "code",
   "execution_count": 14,
   "metadata": {},
   "outputs": [
    {
     "data": {
      "text/plain": [
       "(71, 1)"
      ]
     },
     "execution_count": 14,
     "metadata": {},
     "output_type": "execute_result"
    }
   ],
   "source": [
    "pred = np.array(pred)\n",
    "pred = pred.reshape(-1, 1)\n",
    "pred.shape"
   ]
  },
  {
   "cell_type": "code",
   "execution_count": 16,
   "metadata": {},
   "outputs": [
    {
     "data": {
      "text/plain": [
       "[<matplotlib.lines.Line2D at 0x7ffa62c21820>]"
      ]
     },
     "execution_count": 16,
     "metadata": {},
     "output_type": "execute_result"
    },
    {
     "data": {
      "image/png": "[encoded data removed]",
      "text/plain": [
       "<Figure size 640x480 with 1 Axes>"
      ]
     },
     "metadata": {},
     "output_type": "display_data"
    }
   ],
   "source": [
    "plt.plot(df_test)"
   ]
  },
  {
   "cell_type": "code",
   "execution_count": 15,
   "metadata": {},
   "outputs": [
    {
     "data": {
      "text/plain": [
       "[<matplotlib.lines.Line2D at 0x7ffa62b69e50>]"
      ]
     },
     "execution_count": 15,
     "metadata": {},
     "output_type": "execute_result"
    },
    {
     "data": {
      "image/png": "[encoded data removed]",
      "text/plain": [
       "<Figure size 640x480 with 1 Axes>"
      ]
     },
     "metadata": {},
     "output_type": "display_data"
    }
   ],
   "source": [
    "plt.plot(pred)"
   ]
  },
  {
   "cell_type": "code",
   "execution_count": null,
   "metadata": {},
   "outputs": [],
   "source": [
    "predictions = []\n",
    "for i in range(len(files_test)):\n",
    "    df_test = pl.read_csv(files_test[i])\n",
    "    df_test = df_test[\"velocity\"].to_numpy()\n",
    "    print(df_test.shape)\n",
    "    prediction = model.predict(df_test)\n",
    "    predictions.append(prediction)"
   ]
  },
  {
   "cell_type": "code",
   "execution_count": null,
   "metadata": {},
   "outputs": [],
   "source": [
    "plt.plot(predictions)\n",
    "plt.show()"
   ]
  }
 ],
 "metadata": {
  "kernelspec": {
   "display_name": "base",
   "language": "python",
   "name": "python3"
  },
  "language_info": {
   "codemirror_mode": {
    "name": "ipython",
    "version": 3
   },
   "file_extension": ".py",
   "mimetype": "text/x-python",
   "name": "python",
   "nbconvert_exporter": "python",
   "pygments_lexer": "ipython3",
   "version": "3.12.4"
  }
 },
 "nbformat": 4,
 "nbformat_minor": 2
}
