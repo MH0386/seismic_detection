{
 "cells": [
  {
   "cell_type": "code",
   "execution_count": 43,
   "metadata": {},
   "outputs": [],
   "source": [
    "import polars as pl\n",
    "import os\n",
    "import matplotlib.pyplot as plt\n",
    "import pywt\n",
    "import numpy as np"
   ]
  },
  {
   "cell_type": "code",
   "execution_count": 44,
   "metadata": {},
   "outputs": [],
   "source": [
    "data = \"seismic_data/data\"\n",
    "# get all files in the data directory and its subdirectories\n",
    "\n",
    "files = []\n",
    "for root, dirs, file in os.walk(data):\n",
    "    for f in file:\n",
    "        files.append(os.path.join(root, f))\n",
    "\n",
    "# read all files into a single DataFrame\n",
    "files = sorted(files)"
   ]
  },
  {
   "cell_type": "code",
   "execution_count": 45,
   "metadata": {},
   "outputs": [
    {
     "data": {
      "text/plain": [
       "['seismic_data/data/test/mars/0001.csv',\n",
       " 'seismic_data/data/test/mars/0002.csv',\n",
       " 'seismic_data/data/test/mars/0007.csv',\n",
       " 'seismic_data/data/test/mars/0011.csv',\n",
       " 'seismic_data/data/test/mars/0017.csv',\n",
       " 'seismic_data/data/test/mars/0032.csv',\n",
       " 'seismic_data/data/test/mars/0033.csv',\n",
       " 'seismic_data/data/test/mars/0034.csv',\n",
       " 'seismic_data/data/test/mars/0041.csv',\n",
       " 'seismic_data/data/test/moon/12_b_00006.csv',\n",
       " 'seismic_data/data/test/moon/12_b_00007.csv',\n",
       " 'seismic_data/data/test/moon/12_b_00014.csv',\n",
       " 'seismic_data/data/test/moon/12_b_00016.csv',\n",
       " 'seismic_data/data/test/moon/12_b_00018.csv',\n",
       " 'seismic_data/data/test/moon/12_b_00020.csv',\n",
       " 'seismic_data/data/test/moon/12_b_00021.csv',\n",
       " 'seismic_data/data/test/moon/12_b_00026.csv',\n",
       " 'seismic_data/data/test/moon/12_b_00027.csv',\n",
       " 'seismic_data/data/test/moon/12_b_00028.csv',\n",
       " 'seismic_data/data/test/moon/12_b_00029.csv',\n",
       " 'seismic_data/data/test/moon/12_b_00031.csv',\n",
       " 'seismic_data/data/test/moon/12_b_00035.csv',\n",
       " 'seismic_data/data/test/moon/12_b_00036.csv',\n",
       " 'seismic_data/data/test/moon/12_b_00037.csv',\n",
       " 'seismic_data/data/test/moon/12_b_00039.csv',\n",
       " 'seismic_data/data/test/moon/12_b_00043.csv',\n",
       " 'seismic_data/data/test/moon/12_b_00049.csv',\n",
       " 'seismic_data/data/test/moon/12_b_00050.csv',\n",
       " 'seismic_data/data/test/moon/12_b_00051.csv',\n",
       " 'seismic_data/data/test/moon/12_b_00057.csv',\n",
       " 'seismic_data/data/test/moon/12_b_00059.csv',\n",
       " 'seismic_data/data/test/moon/12_b_00060.csv',\n",
       " 'seismic_data/data/test/moon/12_b_00073.csv',\n",
       " 'seismic_data/data/test/moon/12_b_00083.csv',\n",
       " 'seismic_data/data/test/moon/12_b_00092.csv',\n",
       " 'seismic_data/data/test/moon/12_b_00096.csv',\n",
       " 'seismic_data/data/test/moon/12_b_00101.csv',\n",
       " 'seismic_data/data/test/moon/12_b_00124.csv',\n",
       " 'seismic_data/data/test/moon/12_b_00125.csv',\n",
       " 'seismic_data/data/test/moon/12_b_00133.csv',\n",
       " 'seismic_data/data/test/moon/12_b_00156.csv',\n",
       " 'seismic_data/data/test/moon/12_b_00186.csv',\n",
       " 'seismic_data/data/test/moon/12_b_00190.csv',\n",
       " 'seismic_data/data/test/moon/12_b_00192.csv',\n",
       " 'seismic_data/data/test/moon/12_b_00223.csv',\n",
       " 'seismic_data/data/test/moon/12_b_00228.csv',\n",
       " 'seismic_data/data/test/moon/12_b_00331.csv',\n",
       " 'seismic_data/data/test/moon/12_b_00335.csv',\n",
       " 'seismic_data/data/test/moon/12_b_00341.csv',\n",
       " 'seismic_data/data/test/moon/12_b_00342.csv',\n",
       " 'seismic_data/data/test/moon/12_b_00349.csv',\n",
       " 'seismic_data/data/test/moon/12_b_00384.csv',\n",
       " 'seismic_data/data/test/moon/12_b_00399.csv',\n",
       " 'seismic_data/data/test/moon/12_b_00437.csv',\n",
       " 'seismic_data/data/test/moon/12_b_00461.csv',\n",
       " 'seismic_data/data/test/moon/12_b_00463.csv',\n",
       " 'seismic_data/data/test/moon/12_b_00475.csv',\n",
       " 'seismic_data/data/test/moon/12_b_00506.csv',\n",
       " 'seismic_data/data/test/moon/12_b_00512.csv',\n",
       " 'seismic_data/data/test/moon/12_b_00522.csv',\n",
       " 'seismic_data/data/test/moon/12_b_00543.csv',\n",
       " 'seismic_data/data/test/moon/12_b_00553.csv',\n",
       " 'seismic_data/data/test/moon/12_b_00572.csv',\n",
       " 'seismic_data/data/test/moon/12_b_00638.csv',\n",
       " 'seismic_data/data/test/moon/12_b_00651.csv',\n",
       " 'seismic_data/data/test/moon/12_b_00652.csv',\n",
       " 'seismic_data/data/test/moon/12_b_00660.csv',\n",
       " 'seismic_data/data/test/moon/12_b_00662.csv',\n",
       " 'seismic_data/data/test/moon/12_b_00915.csv',\n",
       " 'seismic_data/data/test/moon/12_b_00923.csv',\n",
       " 'seismic_data/data/test/moon/12_b_00924.csv',\n",
       " 'seismic_data/data/test/moon/12_b_00991.csv',\n",
       " 'seismic_data/data/test/moon/12_b_01012.csv',\n",
       " 'seismic_data/data/test/moon/15_a_00098.csv',\n",
       " 'seismic_data/data/test/moon/15_a_00126.csv',\n",
       " 'seismic_data/data/test/moon/15_a_00134.csv',\n",
       " 'seismic_data/data/test/moon/15_a_00157.csv',\n",
       " 'seismic_data/data/test/moon/15_a_00162.csv',\n",
       " 'seismic_data/data/test/moon/15_a_00166.csv',\n",
       " 'seismic_data/data/test/moon/15_a_00169.csv',\n",
       " 'seismic_data/data/test/moon/15_a_00170.csv',\n",
       " 'seismic_data/data/test/moon/15_a_00190.csv',\n",
       " 'seismic_data/data/test/moon/15_a_00194.csv',\n",
       " 'seismic_data/data/test/moon/15_b_00497.csv',\n",
       " 'seismic_data/data/test/moon/15_b_00536.csv',\n",
       " 'seismic_data/data/test/moon/15_b_00542.csv',\n",
       " 'seismic_data/data/test/moon/15_b_00557.csv',\n",
       " 'seismic_data/data/test/moon/15_b_00653.csv',\n",
       " 'seismic_data/data/test/moon/16_a_00075.csv',\n",
       " 'seismic_data/data/test/moon/16_a_00079.csv',\n",
       " 'seismic_data/data/test/moon/16_a_00080.csv',\n",
       " 'seismic_data/data/test/moon/16_a_00081.csv',\n",
       " 'seismic_data/data/test/moon/16_a_00123.csv',\n",
       " 'seismic_data/data/test/moon/16_a_00146.csv',\n",
       " 'seismic_data/data/test/moon/16_a_00160.csv',\n",
       " 'seismic_data/data/test/moon/16_a_00168.csv',\n",
       " 'seismic_data/data/test/moon/16_a_00172.csv',\n",
       " 'seismic_data/data/test/moon/16_a_00174.csv',\n",
       " 'seismic_data/data/test/moon/16_a_00180.csv',\n",
       " 'seismic_data/data/test/moon/16_a_00186.csv',\n",
       " 'seismic_data/data/test/moon/16_a_00249.csv',\n",
       " 'seismic_data/data/test/moon/16_a_00255.csv',\n",
       " 'seismic_data/data/test/moon/16_b_00443.csv',\n",
       " 'seismic_data/data/test/moon/16_b_00487.csv',\n",
       " 'seismic_data/data/test/moon/16_b_00587.csv',\n",
       " 'seismic_data/data/train/mars/0005.csv',\n",
       " 'seismic_data/data/train/mars/0006.csv',\n",
       " 'seismic_data/data/train/moon/12_a_00002.csv',\n",
       " 'seismic_data/data/train/moon/12_a_00003.csv',\n",
       " 'seismic_data/data/train/moon/12_a_00004.csv',\n",
       " 'seismic_data/data/train/moon/12_a_00006.csv',\n",
       " 'seismic_data/data/train/moon/12_a_00007.csv',\n",
       " 'seismic_data/data/train/moon/12_a_00008.csv',\n",
       " 'seismic_data/data/train/moon/12_a_00009.csv',\n",
       " 'seismic_data/data/train/moon/12_a_00010.csv',\n",
       " 'seismic_data/data/train/moon/12_a_00011.csv',\n",
       " 'seismic_data/data/train/moon/12_a_00013.csv',\n",
       " 'seismic_data/data/train/moon/12_a_00014.csv',\n",
       " 'seismic_data/data/train/moon/12_a_00015.csv',\n",
       " 'seismic_data/data/train/moon/12_a_00017.csv',\n",
       " 'seismic_data/data/train/moon/12_a_00019.csv',\n",
       " 'seismic_data/data/train/moon/12_a_00021.csv',\n",
       " 'seismic_data/data/train/moon/12_a_00022.csv',\n",
       " 'seismic_data/data/train/moon/12_a_00023.csv',\n",
       " 'seismic_data/data/train/moon/12_a_00024.csv',\n",
       " 'seismic_data/data/train/moon/12_a_00026.csv',\n",
       " 'seismic_data/data/train/moon/12_a_00028.csv',\n",
       " 'seismic_data/data/train/moon/12_a_00030.csv',\n",
       " 'seismic_data/data/train/moon/12_a_00031.csv',\n",
       " 'seismic_data/data/train/moon/12_a_00032.csv',\n",
       " 'seismic_data/data/train/moon/12_a_00033.csv',\n",
       " 'seismic_data/data/train/moon/12_a_00034.csv',\n",
       " 'seismic_data/data/train/moon/12_a_00035.csv',\n",
       " 'seismic_data/data/train/moon/12_a_00042.csv',\n",
       " 'seismic_data/data/train/moon/12_a_00043.csv',\n",
       " 'seismic_data/data/train/moon/12_a_00044.csv',\n",
       " 'seismic_data/data/train/moon/12_a_00045.csv',\n",
       " 'seismic_data/data/train/moon/12_a_00046.csv',\n",
       " 'seismic_data/data/train/moon/12_a_00049.csv',\n",
       " 'seismic_data/data/train/moon/12_a_00052.csv',\n",
       " 'seismic_data/data/train/moon/12_a_00055.csv',\n",
       " 'seismic_data/data/train/moon/12_a_00060.csv',\n",
       " 'seismic_data/data/train/moon/12_a_00067.csv',\n",
       " 'seismic_data/data/train/moon/12_a_00068.csv',\n",
       " 'seismic_data/data/train/moon/12_a_00070.csv',\n",
       " 'seismic_data/data/train/moon/12_a_00071.csv',\n",
       " 'seismic_data/data/train/moon/12_a_00083.csv',\n",
       " 'seismic_data/data/train/moon/12_a_00084.csv',\n",
       " 'seismic_data/data/train/moon/12_a_00088.csv',\n",
       " 'seismic_data/data/train/moon/12_a_00091.csv',\n",
       " 'seismic_data/data/train/moon/12_a_00093.csv',\n",
       " 'seismic_data/data/train/moon/12_a_00094.csv',\n",
       " 'seismic_data/data/train/moon/12_a_00097.csv',\n",
       " 'seismic_data/data/train/moon/12_a_00104.csv',\n",
       " 'seismic_data/data/train/moon/12_a_00107.csv',\n",
       " 'seismic_data/data/train/moon/12_a_00108.csv',\n",
       " 'seismic_data/data/train/moon/12_a_00109.csv',\n",
       " 'seismic_data/data/train/moon/12_a_00112.csv',\n",
       " 'seismic_data/data/train/moon/12_a_00113.csv',\n",
       " 'seismic_data/data/train/moon/12_a_00114.csv',\n",
       " 'seismic_data/data/train/moon/12_a_00117.csv',\n",
       " 'seismic_data/data/train/moon/12_a_00120.csv',\n",
       " 'seismic_data/data/train/moon/12_a_00121.csv',\n",
       " 'seismic_data/data/train/moon/12_a_00127.csv',\n",
       " 'seismic_data/data/train/moon/12_a_00136.csv',\n",
       " 'seismic_data/data/train/moon/12_a_00137.csv',\n",
       " 'seismic_data/data/train/moon/12_a_00138.csv',\n",
       " 'seismic_data/data/train/moon/12_a_00140.csv',\n",
       " 'seismic_data/data/train/moon/12_a_00141.csv',\n",
       " 'seismic_data/data/train/moon/12_a_00142.csv',\n",
       " 'seismic_data/data/train/moon/12_a_00144.csv',\n",
       " 'seismic_data/data/train/moon/12_a_00145.csv',\n",
       " 'seismic_data/data/train/moon/12_a_00149.csv',\n",
       " 'seismic_data/data/train/moon/12_a_00150.csv',\n",
       " 'seismic_data/data/train/moon/12_a_00151.csv',\n",
       " 'seismic_data/data/train/moon/12_a_00152.csv',\n",
       " 'seismic_data/data/train/moon/12_a_00153.csv',\n",
       " 'seismic_data/data/train/moon/12_a_00156.csv',\n",
       " 'seismic_data/data/train/moon/12_a_00191.csv',\n",
       " 'seismic_data/data/train/moon/12_a_00192.csv',\n",
       " 'seismic_data/data/train/moon/12_a_00196.csv',\n",
       " 'seismic_data/data/train/moon/12_a_00198.csv']"
      ]
     },
     "execution_count": 45,
     "metadata": {},
     "output_type": "execute_result"
    }
   ],
   "source": [
    "files"
   ]
  },
  {
   "cell_type": "code",
   "execution_count": 46,
   "metadata": {},
   "outputs": [],
   "source": [
    "sample = pl.read_csv(files[0])"
   ]
  },
  {
   "cell_type": "code",
   "execution_count": 47,
   "metadata": {},
   "outputs": [
    {
     "data": {
      "text/html": [
       "<div><style>\n",
       ".dataframe > thead > tr,\n",
       ".dataframe > tbody > tr {\n",
       "  text-align: right;\n",
       "  white-space: pre-wrap;\n",
       "}\n",
       "</style>\n",
       "<small>shape: (71_999, 3)</small><table border=\"1\" class=\"dataframe\"><thead><tr><th>mq</th><th>time_rel</th><th>velocity</th></tr><tr><td>i64</td><td>f64</td><td>f64</td></tr></thead><tbody><tr><td>0</td><td>0.0</td><td>0.0</td></tr><tr><td>0</td><td>0.05</td><td>0.004076</td></tr><tr><td>0</td><td>0.1</td><td>0.00731</td></tr><tr><td>0</td><td>0.15</td><td>-0.002066</td></tr><tr><td>0</td><td>0.2</td><td>0.003964</td></tr><tr><td>&hellip;</td><td>&hellip;</td><td>&hellip;</td></tr><tr><td>0</td><td>3599.7</td><td>0.05322</td></tr><tr><td>0</td><td>3599.75</td><td>0.008931</td></tr><tr><td>0</td><td>3599.8</td><td>-0.012888</td></tr><tr><td>0</td><td>3599.85</td><td>-0.002707</td></tr><tr><td>0</td><td>3599.9</td><td>0.0</td></tr></tbody></table></div>"
      ],
      "text/plain": [
       "shape: (71_999, 3)\n",
       "┌─────┬──────────┬───────────┐\n",
       "│ mq  ┆ time_rel ┆ velocity  │\n",
       "│ --- ┆ ---      ┆ ---       │\n",
       "│ i64 ┆ f64      ┆ f64       │\n",
       "╞═════╪══════════╪═══════════╡\n",
       "│ 0   ┆ 0.0      ┆ 0.0       │\n",
       "│ 0   ┆ 0.05     ┆ 0.004076  │\n",
       "│ 0   ┆ 0.1      ┆ 0.00731   │\n",
       "│ 0   ┆ 0.15     ┆ -0.002066 │\n",
       "│ 0   ┆ 0.2      ┆ 0.003964  │\n",
       "│ …   ┆ …        ┆ …         │\n",
       "│ 0   ┆ 3599.7   ┆ 0.05322   │\n",
       "│ 0   ┆ 3599.75  ┆ 0.008931  │\n",
       "│ 0   ┆ 3599.8   ┆ -0.012888 │\n",
       "│ 0   ┆ 3599.85  ┆ -0.002707 │\n",
       "│ 0   ┆ 3599.9   ┆ 0.0       │\n",
       "└─────┴──────────┴───────────┘"
      ]
     },
     "execution_count": 47,
     "metadata": {},
     "output_type": "execute_result"
    }
   ],
   "source": [
    "sample"
   ]
  },
  {
   "cell_type": "code",
   "execution_count": 48,
   "metadata": {},
   "outputs": [
    {
     "data": {
      "text/plain": [
       "[<matplotlib.lines.Line2D at 0x7f1951563850>]"
      ]
     },
     "execution_count": 48,
     "metadata": {},
     "output_type": "execute_result"
    },
    {
     "data": {
      "image/png": "[encoded data removed]",
      "text/plain": [
       "<Figure size 640x480 with 1 Axes>"
      ]
     },
     "metadata": {},
     "output_type": "display_data"
    }
   ],
   "source": [
    "plt.plot(sample[\"velocity\"])"
   ]
  },
  {
   "cell_type": "code",
   "execution_count": 49,
   "metadata": {},
   "outputs": [
    {
     "data": {
      "text/plain": [
       "dtype('float64')"
      ]
     },
     "execution_count": 49,
     "metadata": {},
     "output_type": "execute_result"
    }
   ],
   "source": [
    "sample_velocity=sample[\"velocity\"].to_numpy()\n",
    "sample_velocity.dtype"
   ]
  },
  {
   "cell_type": "code",
   "execution_count": 50,
   "metadata": {},
   "outputs": [
    {
     "data": {
      "text/plain": [
       "[<matplotlib.lines.Line2D at 0x7f1951585600>]"
      ]
     },
     "execution_count": 50,
     "metadata": {},
     "output_type": "execute_result"
    },
    {
     "data": {
      "image/png": "[encoded data removed]",
      "text/plain": [
       "<Figure size 640x480 with 1 Axes>"
      ]
     },
     "metadata": {},
     "output_type": "display_data"
    }
   ],
   "source": [
    "a, d = pywt.dwt(sample_velocity, \"db4\")\n",
    "d = np.array(d)\n",
    "# plt.plot(a)\n",
    "plt.plot(d)"
   ]
  },
  {
   "cell_type": "code",
   "execution_count": 51,
   "metadata": {},
   "outputs": [
    {
     "data": {
      "image/png": "[encoded data removed]",
      "text/plain": [
       "<Figure size 640x480 with 1 Axes>"
      ]
     },
     "metadata": {},
     "output_type": "display_data"
    }
   ],
   "source": [
    "plt.plot(sample_velocity, label=\"original\")\n",
    "# plt.plot(a, label=\"approximation\")\n",
    "plt.plot(d, label=\"detail\")\n",
    "plt.legend()\n",
    "plt.show()"
   ]
  },
  {
   "cell_type": "code",
   "execution_count": 58,
   "metadata": {},
   "outputs": [],
   "source": [
    "for file in files:\n",
    "    df = pl.read_csv(file)\n",
    "    df = df.with_columns(df[\"velocity\"].cast(pl.Float64).alias(\"velocity\"))\n",
    "    _, d = pywt.dwt(df[\"velocity\"].to_numpy(), \"db4\")\n",
    "    d = np.array(d)\n",
    "    len_old_velocity = len(df[\"velocity\"])\n",
    "    len_new_velocity = len(d)\n",
    "    if len_old_velocity > len_new_velocity:\n",
    "        d = np.insert(d, 0, [0] * (len_old_velocity - len_new_velocity))\n",
    "    df = df.with_columns(pl.Series(d).alias(\"velocity_processed\"))\n",
    "    df.write_csv(file)"
   ]
  }
 ],
 "metadata": {
  "kernelspec": {
   "display_name": "base",
   "language": "python",
   "name": "python3"
  },
  "language_info": {
   "codemirror_mode": {
    "name": "ipython",
    "version": 3
   },
   "file_extension": ".py",
   "mimetype": "text/x-python",
   "name": "python",
   "nbconvert_exporter": "python",
   "pygments_lexer": "ipython3",
   "version": "3.10.10"
  }
 },
 "nbformat": 4,
 "nbformat_minor": 2
}
