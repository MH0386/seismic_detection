{
 "cells": [
  {
   "cell_type": "code",
   "execution_count": 1,
   "metadata": {},
   "outputs": [],
   "source": [
    "import polars as pl\n",
    "from obspy import readead"
   ]
  },
  {
   "cell_type": "code",
   "execution_count": 2,
   "metadata": {},
   "outputs": [
    {
     "data": {
      "text/html": [
       "<div><style>\n",
       ".dataframe > thead > tr,\n",
       ".dataframe > tbody > tr {\n",
       "  text-align: right;\n",
       "  white-space: pre-wrap;\n",
       "}\n",
       "</style>\n",
       "<small>shape: (76, 5)</small><table border=\"1\" class=\"dataframe\"><thead><tr><th>filename</th><th>time_abs(%Y-%m-%dT%H:%M:%S.%f)</th><th>time_rel(sec)</th><th>evid</th><th>mq_type</th></tr><tr><td>str</td><td>str</td><td>f64</td><td>str</td><td>str</td></tr></thead><tbody><tr><td>&quot;xa.s12.00.mhz.1970-01-19HR00_e…</td><td>&quot;1970-01-19T20:25:00.000000&quot;</td><td>73500.0</td><td>&quot;evid00002&quot;</td><td>&quot;impact_mq&quot;</td></tr><tr><td>&quot;xa.s12.00.mhz.1970-03-25HR00_e…</td><td>&quot;1970-03-25T03:32:00.000000&quot;</td><td>12720.0</td><td>&quot;evid00003&quot;</td><td>&quot;impact_mq&quot;</td></tr><tr><td>&quot;xa.s12.00.mhz.1970-03-26HR00_e…</td><td>&quot;1970-03-26T20:17:00.000000&quot;</td><td>73020.0</td><td>&quot;evid00004&quot;</td><td>&quot;impact_mq&quot;</td></tr><tr><td>&quot;xa.s12.00.mhz.1970-04-25HR00_e…</td><td>&quot;1970-04-25T01:14:00.000000&quot;</td><td>4440.0</td><td>&quot;evid00006&quot;</td><td>&quot;impact_mq&quot;</td></tr><tr><td>&quot;xa.s12.00.mhz.1970-04-26HR00_e…</td><td>&quot;1970-04-26T14:29:00.000000&quot;</td><td>52140.0</td><td>&quot;evid00007&quot;</td><td>&quot;deep_mq&quot;</td></tr><tr><td>&hellip;</td><td>&hellip;</td><td>&hellip;</td><td>&hellip;</td><td>&hellip;</td></tr><tr><td>&quot;xa.s12.00.mhz.1974-10-14HR00_e…</td><td>&quot;1974-10-14T17:43:00.000000&quot;</td><td>63780.0</td><td>&quot;evid00156&quot;</td><td>&quot;impact_mq&quot;</td></tr><tr><td>&quot;xa.s12.00.mhz.1975-04-12HR00_e…</td><td>&quot;1975-04-12T18:15:00.000000&quot;</td><td>65700.0</td><td>&quot;evid00191&quot;</td><td>&quot;impact_mq&quot;</td></tr><tr><td>&quot;xa.s12.00.mhz.1975-05-04HR00_e…</td><td>&quot;1975-05-04T10:05:00.000000&quot;</td><td>36300.0</td><td>&quot;evid00192&quot;</td><td>&quot;impact_mq&quot;</td></tr><tr><td>&quot;xa.s12.00.mhz.1975-06-24HR00_e…</td><td>&quot;1975-06-24T16:03:00.000000&quot;</td><td>57780.0</td><td>&quot;evid00196&quot;</td><td>&quot;impact_mq&quot;</td></tr><tr><td>&quot;xa.s12.00.mhz.1975-06-26HR00_e…</td><td>&quot;1975-06-26T03:24:00.000000&quot;</td><td>12240.0</td><td>&quot;evid00198&quot;</td><td>&quot;impact_mq&quot;</td></tr></tbody></table></div>"
      ],
      "text/plain": [
       "shape: (76, 5)\n",
       "┌─────────────────────────────┬────────────────────────────┬───────────────┬───────────┬───────────┐\n",
       "│ filename                    ┆ time_abs(%Y-%m-%dT%H:%M:%S ┆ time_rel(sec) ┆ evid      ┆ mq_type   │\n",
       "│ ---                         ┆ .%f)                       ┆ ---           ┆ ---       ┆ ---       │\n",
       "│ str                         ┆ ---                        ┆ f64           ┆ str       ┆ str       │\n",
       "│                             ┆ str                        ┆               ┆           ┆           │\n",
       "╞═════════════════════════════╪════════════════════════════╪═══════════════╪═══════════╪═══════════╡\n",
       "│ xa.s12.00.mhz.1970-01-19HR0 ┆ 1970-01-19T20:25:00.000000 ┆ 73500.0       ┆ evid00002 ┆ impact_mq │\n",
       "│ 0_e…                        ┆                            ┆               ┆           ┆           │\n",
       "│ xa.s12.00.mhz.1970-03-25HR0 ┆ 1970-03-25T03:32:00.000000 ┆ 12720.0       ┆ evid00003 ┆ impact_mq │\n",
       "│ 0_e…                        ┆                            ┆               ┆           ┆           │\n",
       "│ xa.s12.00.mhz.1970-03-26HR0 ┆ 1970-03-26T20:17:00.000000 ┆ 73020.0       ┆ evid00004 ┆ impact_mq │\n",
       "│ 0_e…                        ┆                            ┆               ┆           ┆           │\n",
       "│ xa.s12.00.mhz.1970-04-25HR0 ┆ 1970-04-25T01:14:00.000000 ┆ 4440.0        ┆ evid00006 ┆ impact_mq │\n",
       "│ 0_e…                        ┆                            ┆               ┆           ┆           │\n",
       "│ xa.s12.00.mhz.1970-04-26HR0 ┆ 1970-04-26T14:29:00.000000 ┆ 52140.0       ┆ evid00007 ┆ deep_mq   │\n",
       "│ 0_e…                        ┆                            ┆               ┆           ┆           │\n",
       "│ …                           ┆ …                          ┆ …             ┆ …         ┆ …         │\n",
       "│ xa.s12.00.mhz.1974-10-14HR0 ┆ 1974-10-14T17:43:00.000000 ┆ 63780.0       ┆ evid00156 ┆ impact_mq │\n",
       "│ 0_e…                        ┆                            ┆               ┆           ┆           │\n",
       "│ xa.s12.00.mhz.1975-04-12HR0 ┆ 1975-04-12T18:15:00.000000 ┆ 65700.0       ┆ evid00191 ┆ impact_mq │\n",
       "│ 0_e…                        ┆                            ┆               ┆           ┆           │\n",
       "│ xa.s12.00.mhz.1975-05-04HR0 ┆ 1975-05-04T10:05:00.000000 ┆ 36300.0       ┆ evid00192 ┆ impact_mq │\n",
       "│ 0_e…                        ┆                            ┆               ┆           ┆           │\n",
       "│ xa.s12.00.mhz.1975-06-24HR0 ┆ 1975-06-24T16:03:00.000000 ┆ 57780.0       ┆ evid00196 ┆ impact_mq │\n",
       "│ 0_e…                        ┆                            ┆               ┆           ┆           │\n",
       "│ xa.s12.00.mhz.1975-06-26HR0 ┆ 1975-06-26T03:24:00.000000 ┆ 12240.0       ┆ evid00198 ┆ impact_mq │\n",
       "│ 0_e…                        ┆                            ┆               ┆           ┆           │\n",
       "└─────────────────────────────┴────────────────────────────┴───────────────┴───────────┴───────────┘"
      ]
     },
     "execution_count": 2,
     "metadata": {},
     "output_type": "execute_result"
    }
   ],
   "source": [
    "cat = pl.read_csv(\n",
    "    \"space_apps_2024_seismic_detection/data/lunar/training/catalogs/apollo12_catalog_GradeA_final.csv\"\n",
    ")\n",
    "cat"
   ]
  },
  {
   "cell_type": "code",
   "execution_count": 3,
   "metadata": {},
   "outputs": [
    {
     "data": {
      "text/html": [
       "<div><style>\n",
       ".dataframe > thead > tr,\n",
       ".dataframe > tbody > tr {\n",
       "  text-align: right;\n",
       "  white-space: pre-wrap;\n",
       "}\n",
       "</style>\n",
       "<small>shape: (9, 6)</small><table border=\"1\" class=\"dataframe\"><thead><tr><th>statistic</th><th>filename</th><th>time_abs(%Y-%m-%dT%H:%M:%S.%f)</th><th>time_rel(sec)</th><th>evid</th><th>mq_type</th></tr><tr><td>str</td><td>str</td><td>str</td><td>f64</td><td>str</td><td>str</td></tr></thead><tbody><tr><td>&quot;count&quot;</td><td>&quot;76&quot;</td><td>&quot;76&quot;</td><td>76.0</td><td>&quot;76&quot;</td><td>&quot;76&quot;</td></tr><tr><td>&quot;null_count&quot;</td><td>&quot;0&quot;</td><td>&quot;0&quot;</td><td>0.0</td><td>&quot;0&quot;</td><td>&quot;0&quot;</td></tr><tr><td>&quot;mean&quot;</td><td>null</td><td>null</td><td>41878.421053</td><td>null</td><td>null</td></tr><tr><td>&quot;std&quot;</td><td>null</td><td>null</td><td>25254.710085</td><td>null</td><td>null</td></tr><tr><td>&quot;min&quot;</td><td>&quot;xa.s12.00.mhz.1970-01-19HR00_e…</td><td>&quot;1970-01-19T20:25:00.000000&quot;</td><td>1380.0</td><td>&quot;evid00002&quot;</td><td>&quot;deep_mq&quot;</td></tr><tr><td>&quot;25%&quot;</td><td>null</td><td>null</td><td>19800.0</td><td>null</td><td>null</td></tr><tr><td>&quot;50%&quot;</td><td>null</td><td>null</td><td>43500.0</td><td>null</td><td>null</td></tr><tr><td>&quot;75%&quot;</td><td>null</td><td>null</td><td>65280.0</td><td>null</td><td>null</td></tr><tr><td>&quot;max&quot;</td><td>&quot;xa.s12.00.mhz.1975-06-26HR00_e…</td><td>&quot;1975-06-26T03:24:00.000000&quot;</td><td>84660.0</td><td>&quot;evid00198&quot;</td><td>&quot;shallow_mq&quot;</td></tr></tbody></table></div>"
      ],
      "text/plain": [
       "shape: (9, 6)\n",
       "┌────────────┬──────────────────────┬─────────────────────┬───────────────┬───────────┬────────────┐\n",
       "│ statistic  ┆ filename             ┆ time_abs(%Y-%m-%dT% ┆ time_rel(sec) ┆ evid      ┆ mq_type    │\n",
       "│ ---        ┆ ---                  ┆ H:%M:%S.%f)         ┆ ---           ┆ ---       ┆ ---        │\n",
       "│ str        ┆ str                  ┆ ---                 ┆ f64           ┆ str       ┆ str        │\n",
       "│            ┆                      ┆ str                 ┆               ┆           ┆            │\n",
       "╞════════════╪══════════════════════╪═════════════════════╪═══════════════╪═══════════╪════════════╡\n",
       "│ count      ┆ 76                   ┆ 76                  ┆ 76.0          ┆ 76        ┆ 76         │\n",
       "│ null_count ┆ 0                    ┆ 0                   ┆ 0.0           ┆ 0         ┆ 0          │\n",
       "│ mean       ┆ null                 ┆ null                ┆ 41878.421053  ┆ null      ┆ null       │\n",
       "│ std        ┆ null                 ┆ null                ┆ 25254.710085  ┆ null      ┆ null       │\n",
       "│ min        ┆ xa.s12.00.mhz.1970-0 ┆ 1970-01-19T20:25:00 ┆ 1380.0        ┆ evid00002 ┆ deep_mq    │\n",
       "│            ┆ 1-19HR00_e…          ┆ .000000             ┆               ┆           ┆            │\n",
       "│ 25%        ┆ null                 ┆ null                ┆ 19800.0       ┆ null      ┆ null       │\n",
       "│ 50%        ┆ null                 ┆ null                ┆ 43500.0       ┆ null      ┆ null       │\n",
       "│ 75%        ┆ null                 ┆ null                ┆ 65280.0       ┆ null      ┆ null       │\n",
       "│ max        ┆ xa.s12.00.mhz.1975-0 ┆ 1975-06-26T03:24:00 ┆ 84660.0       ┆ evid00198 ┆ shallow_mq │\n",
       "│            ┆ 6-26HR00_e…          ┆ .000000             ┆               ┆           ┆            │\n",
       "└────────────┴──────────────────────┴─────────────────────┴───────────────┴───────────┴────────────┘"
      ]
     },
     "execution_count": 3,
     "metadata": {},
     "output_type": "execute_result"
    }
   ],
   "source": [
    "cat.describe()"
   ]
  },
  {
   "cell_type": "code",
   "execution_count": 4,
   "metadata": {},
   "outputs": [
    {
     "data": {
      "text/plain": [
       "['filename',\n",
       " 'time_abs(%Y-%m-%dT%H:%M:%S.%f)',\n",
       " 'time_rel(sec)',\n",
       " 'evid',\n",
       " 'mq_type']"
      ]
     },
     "execution_count": 4,
     "metadata": {},
     "output_type": "execute_result"
    }
   ],
   "source": [
    "cat.columns"
   ]
  },
  {
   "cell_type": "code",
   "execution_count": 5,
   "metadata": {},
   "outputs": [
    {
     "data": {
      "text/html": [
       "<div><style>\n",
       ".dataframe > thead > tr,\n",
       ".dataframe > tbody > tr {\n",
       "  text-align: right;\n",
       "  white-space: pre-wrap;\n",
       "}\n",
       "</style>\n",
       "<small>shape: (572_415, 3)</small><table border=\"1\" class=\"dataframe\"><thead><tr><th>time_abs(%Y-%m-%dT%H:%M:%S.%f)</th><th>time_rel(sec)</th><th>velocity(m/s)</th></tr><tr><td>str</td><td>f64</td><td>f64</td></tr></thead><tbody><tr><td>&quot;1970-01-19T00:00:00.665000&quot;</td><td>0.0</td><td>-6.1533e-14</td></tr><tr><td>&quot;1970-01-19T00:00:00.815943&quot;</td><td>0.150943</td><td>-7.7013e-14</td></tr><tr><td>&quot;1970-01-19T00:00:00.966887&quot;</td><td>0.301887</td><td>-8.3962e-14</td></tr><tr><td>&quot;1970-01-19T00:00:01.117830&quot;</td><td>0.45283</td><td>-8.0962e-14</td></tr><tr><td>&quot;1970-01-19T00:00:01.268774&quot;</td><td>0.603774</td><td>-7.0976e-14</td></tr><tr><td>&hellip;</td><td>&hellip;</td><td>&hellip;</td></tr><tr><td>&quot;1970-01-20T00:00:02.174434&quot;</td><td>86401.509434</td><td>-1.4727e-14</td></tr><tr><td>&quot;1970-01-20T00:00:02.325377&quot;</td><td>86401.660377</td><td>-1.9561e-14</td></tr><tr><td>&quot;1970-01-20T00:00:02.476321&quot;</td><td>86401.811321</td><td>-2.2403e-14</td></tr><tr><td>&quot;1970-01-20T00:00:02.627264&quot;</td><td>86401.962264</td><td>-2.9984e-14</td></tr><tr><td>&quot;1970-01-20T00:00:02.778208&quot;</td><td>86402.113208</td><td>-4.4655e-14</td></tr></tbody></table></div>"
      ],
      "text/plain": [
       "shape: (572_415, 3)\n",
       "┌────────────────────────────────┬───────────────┬───────────────┐\n",
       "│ time_abs(%Y-%m-%dT%H:%M:%S.%f) ┆ time_rel(sec) ┆ velocity(m/s) │\n",
       "│ ---                            ┆ ---           ┆ ---           │\n",
       "│ str                            ┆ f64           ┆ f64           │\n",
       "╞════════════════════════════════╪═══════════════╪═══════════════╡\n",
       "│ 1970-01-19T00:00:00.665000     ┆ 0.0           ┆ -6.1533e-14   │\n",
       "│ 1970-01-19T00:00:00.815943     ┆ 0.150943      ┆ -7.7013e-14   │\n",
       "│ 1970-01-19T00:00:00.966887     ┆ 0.301887      ┆ -8.3962e-14   │\n",
       "│ 1970-01-19T00:00:01.117830     ┆ 0.45283       ┆ -8.0962e-14   │\n",
       "│ 1970-01-19T00:00:01.268774     ┆ 0.603774      ┆ -7.0976e-14   │\n",
       "│ …                              ┆ …             ┆ …             │\n",
       "│ 1970-01-20T00:00:02.174434     ┆ 86401.509434  ┆ -1.4727e-14   │\n",
       "│ 1970-01-20T00:00:02.325377     ┆ 86401.660377  ┆ -1.9561e-14   │\n",
       "│ 1970-01-20T00:00:02.476321     ┆ 86401.811321  ┆ -2.2403e-14   │\n",
       "│ 1970-01-20T00:00:02.627264     ┆ 86401.962264  ┆ -2.9984e-14   │\n",
       "│ 1970-01-20T00:00:02.778208     ┆ 86402.113208  ┆ -4.4655e-14   │\n",
       "└────────────────────────────────┴───────────────┴───────────────┘"
      ]
     },
     "execution_count": 5,
     "metadata": {},
     "output_type": "execute_result"
    }
   ],
   "source": [
    "cat_directory = \"space_apps_2024_seismic_detection/data/lunar/training/data/S12_GradeA/\"\n",
    "cat_file = cat_directory + \"xa.s12.00.mhz.1970-01-19HR00_evid00002.csv\"\n",
    "cat = pl.read_csv(cat_file)\n",
    "cat"
   ]
  },
  {
   "cell_type": "code",
   "execution_count": 6,
   "metadata": {},
   "outputs": [
    {
     "data": {
      "text/html": [
       "<div><style>\n",
       ".dataframe > thead > tr,\n",
       ".dataframe > tbody > tr {\n",
       "  text-align: right;\n",
       "  white-space: pre-wrap;\n",
       "}\n",
       "</style>\n",
       "<small>shape: (9, 4)</small><table border=\"1\" class=\"dataframe\"><thead><tr><th>statistic</th><th>time_abs(%Y-%m-%dT%H:%M:%S.%f)</th><th>time_rel(sec)</th><th>velocity(m/s)</th></tr><tr><td>str</td><td>str</td><td>f64</td><td>f64</td></tr></thead><tbody><tr><td>&quot;count&quot;</td><td>&quot;572415&quot;</td><td>572415.0</td><td>572415.0</td></tr><tr><td>&quot;null_count&quot;</td><td>&quot;0&quot;</td><td>0.0</td><td>0.0</td></tr><tr><td>&quot;mean&quot;</td><td>null</td><td>43201.056604</td><td>-8.4431e-13</td></tr><tr><td>&quot;std&quot;</td><td>null</td><td>24942.20702</td><td>3.5301e-10</td></tr><tr><td>&quot;min&quot;</td><td>&quot;1970-01-19T00:00:00.665000&quot;</td><td>0.0</td><td>-8.1853e-9</td></tr><tr><td>&quot;25%&quot;</td><td>null</td><td>21600.603774</td><td>-5.5047e-11</td></tr><tr><td>&quot;50%&quot;</td><td>null</td><td>43201.056604</td><td>-1.6338e-17</td></tr><tr><td>&quot;75%&quot;</td><td>null</td><td>64801.660377</td><td>5.4436e-11</td></tr><tr><td>&quot;max&quot;</td><td>&quot;1970-01-20T00:00:02.778208&quot;</td><td>86402.113208</td><td>7.8740e-9</td></tr></tbody></table></div>"
      ],
      "text/plain": [
       "shape: (9, 4)\n",
       "┌────────────┬────────────────────────────────┬───────────────┬───────────────┐\n",
       "│ statistic  ┆ time_abs(%Y-%m-%dT%H:%M:%S.%f) ┆ time_rel(sec) ┆ velocity(m/s) │\n",
       "│ ---        ┆ ---                            ┆ ---           ┆ ---           │\n",
       "│ str        ┆ str                            ┆ f64           ┆ f64           │\n",
       "╞════════════╪════════════════════════════════╪═══════════════╪═══════════════╡\n",
       "│ count      ┆ 572415                         ┆ 572415.0      ┆ 572415.0      │\n",
       "│ null_count ┆ 0                              ┆ 0.0           ┆ 0.0           │\n",
       "│ mean       ┆ null                           ┆ 43201.056604  ┆ -8.4431e-13   │\n",
       "│ std        ┆ null                           ┆ 24942.20702   ┆ 3.5301e-10    │\n",
       "│ min        ┆ 1970-01-19T00:00:00.665000     ┆ 0.0           ┆ -8.1853e-9    │\n",
       "│ 25%        ┆ null                           ┆ 21600.603774  ┆ -5.5047e-11   │\n",
       "│ 50%        ┆ null                           ┆ 43201.056604  ┆ -1.6338e-17   │\n",
       "│ 75%        ┆ null                           ┆ 64801.660377  ┆ 5.4436e-11    │\n",
       "│ max        ┆ 1970-01-20T00:00:02.778208     ┆ 86402.113208  ┆ 7.8740e-9     │\n",
       "└────────────┴────────────────────────────────┴───────────────┴───────────────┘"
      ]
     },
     "execution_count": 6,
     "metadata": {},
     "output_type": "execute_result"
    }
   ],
   "source": [
    "cat.describe()"
   ]
  },
  {
   "cell_type": "code",
   "execution_count": 7,
   "metadata": {},
   "outputs": [
    {
     "data": {
      "text/plain": [
       "['time_abs(%Y-%m-%dT%H:%M:%S.%f)', 'time_rel(sec)', 'velocity(m/s)']"
      ]
     },
     "execution_count": 7,
     "metadata": {},
     "output_type": "execute_result"
    }
   ],
   "source": [
    "cat.columns"
   ]
  },
  {
   "cell_type": "code",
   "execution_count": 8,
   "metadata": {},
   "outputs": [],
   "source": [
    "st = read(\n",
    "    \"space_apps_2024_seismic_detection/data/lunar/training/data/S12_GradeA/xa.s12.00.mhz.1970-01-19HR00_evid00002.mseed\"\n",
    ")"
   ]
  },
  {
   "cell_type": "code",
   "execution_count": 9,
   "metadata": {},
   "outputs": [
    {
     "data": {
      "text/plain": [
       "1 Trace(s) in Stream:\n",
       "XA.S12.00.MHZ | 1970-01-19T00:00:00.665000Z - 1970-01-20T00:00:02.778208Z | 6.6 Hz, 572415 samples"
      ]
     },
     "execution_count": 9,
     "metadata": {},
     "output_type": "execute_result"
    }
   ],
   "source": [
    "st"
   ]
  },
  {
   "cell_type": "code",
   "execution_count": 10,
   "metadata": {},
   "outputs": [
    {
     "data": {
      "text/plain": [
       "         network: XA\n",
       "         station: S12\n",
       "        location: 00\n",
       "         channel: MHZ\n",
       "       starttime: 1970-01-19T00:00:00.665000Z\n",
       "         endtime: 1970-01-20T00:00:02.778208Z\n",
       "   sampling_rate: 6.625\n",
       "           delta: 0.1509433962264151\n",
       "            npts: 572415\n",
       "           calib: 1.0\n",
       "         _format: MSEED\n",
       "           mseed: AttribDict({'dataquality': 'D', 'number_of_records': 1136, 'encoding': 'FLOAT64', 'byteorder': '>', 'record_length': 4096, 'filesize': 4653056})"
      ]
     },
     "execution_count": 10,
     "metadata": {},
     "output_type": "execute_result"
    }
   ],
   "source": [
    "st[0].stats"
   ]
  },
  {
   "cell_type": "code",
   "execution_count": 11,
   "metadata": {},
   "outputs": [
    {
     "data": {
      "text/plain": [
       "array([-6.15327896e-14, -7.70128843e-14, -8.39618673e-14, ...,\n",
       "       -2.24030684e-14, -2.99840543e-14, -4.46551537e-14])"
      ]
     },
     "execution_count": 11,
     "metadata": {},
     "output_type": "execute_result"
    }
   ],
   "source": [
    "st[0].data"
   ]
  },
  {
   "cell_type": "code",
   "execution_count": 12,
   "metadata": {},
   "outputs": [
    {
     "data": {
      "text/plain": [
       "XA.S12.00.MHZ | 1970-01-19T00:00:00.665000Z - 1970-01-20T00:00:02.778208Z | 6.6 Hz, 572415 samples"
      ]
     },
     "execution_count": 12,
     "metadata": {},
     "output_type": "execute_result"
    }
   ],
   "source": [
    "st[0]"
   ]
  },
  {
   "cell_type": "code",
   "execution_count": 13,
   "metadata": {},
   "outputs": [
    {
     "name": "stdout",
     "output_type": "stream",
     "text": [
      "'byteorder': >\n",
      "'dataquality': D\n",
      "'encoding': FLOAT64\n",
      "'filesize': 4653056\n",
      "'number_of_records': 1136\n",
      "'record_length': 4096\n"
     ]
    }
   ],
   "source": [
    "for k, v in sorted(st[0].stats.mseed.items()):\n",
    "    print(\"'%s': %s\" % (k, str(v)))"
   ]
  },
  {
   "cell_type": "code",
   "execution_count": 14,
   "metadata": {},
   "outputs": [
    {
     "data": {
      "image/png": "[encoded data removed]",
      "text/plain": [
       "<Figure size 800x250 with 1 Axes>"
      ]
     },
     "metadata": {},
     "output_type": "display_data"
    },
    {
     "data": {
      "image/png": "[encoded data removed]",
      "text/plain": [
       "<Figure size 800x250 with 1 Axes>"
      ]
     },
     "execution_count": 14,
     "metadata": {},
     "output_type": "execute_result"
    }
   ],
   "source": [
    "st.plot()"
   ]
  }
 ],
 "metadata": {
  "kernelspec": {
   "display_name": "env",
   "language": "python",
   "name": "python3"
  },
  "language_info": {
   "codemirror_mode": {
    "name": "ipython",
    "version": 3
   },
   "file_extension": ".py",
   "mimetype": "text/x-python",
   "name": "python",
   "nbconvert_exporter": "python",
   "pygments_lexer": "ipython3",
   "version": "3.12.4"
  }
 },
 "nbformat": 4,
 "nbformat_minor": 2
}
